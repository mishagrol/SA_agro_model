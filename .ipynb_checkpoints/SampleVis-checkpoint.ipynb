{
 "cells": [
  {
   "cell_type": "code",
   "execution_count": 2,
   "metadata": {},
   "outputs": [],
   "source": [
    "from SALib.sample import sobol_sequence\n",
    "from SALib.sample import latin\n",
    "from SALib.sample import saltelli\n",
    "import mann_kendall\n",
    "import pearson\n",
    "import numpy as np\n",
    "from numpy import matlib\n",
    "import util\n",
    "import projection_properties\n",
    "import space_filling_measures"
   ]
  },
  {
   "cell_type": "code",
   "execution_count": 20,
   "metadata": {},
   "outputs": [],
   "source": [
    "################################# Intro\n",
    "# This file demonstrates the functionalities in this quick toolbox fo sample property visualisation\n",
    "# CLI usage: python readme.py &> output.txt\n",
    "#################################\n",
    "\n",
    "################################# Ensemble characteristics\n",
    "# Ensemble quick definition, following the SAlib standards\n",
    "\n",
    "n = 10000\n",
    "dim = 6\n",
    "names = ['SOC', 'Sand', 'Clay', 'pH', 'CN', 'BD']\n",
    "# for i in range(dim):\n",
    "#     names.append('x' + str(i+1))\n",
    "\n",
    "# problem = {\n",
    "#     'num_vars': dim,\n",
    "#     'names': names,\n",
    "#     'bounds': [[-1, 1]]*dim\n",
    "# }\n",
    "problem = {\n",
    "    'num_vars':6,\n",
    "    'names':names,\n",
    "    'bounds':[[2.58, 6.20],\n",
    "              [0.01, 0.30],\n",
    "              [0.01, 0.30],\n",
    "              [4.6, 6.9],\n",
    "              [10.9, 12.4],\n",
    "              [900, 1350]]\n",
    "}"
   ]
  },
  {
   "cell_type": "code",
   "execution_count": 21,
   "metadata": {},
   "outputs": [
    {
     "data": {
      "text/plain": [
       "6"
      ]
     },
     "execution_count": 21,
     "metadata": {},
     "output_type": "execute_result"
    }
   ],
   "source": [
    "dim"
   ]
  },
  {
   "cell_type": "code",
   "execution_count": 22,
   "metadata": {},
   "outputs": [],
   "source": [
    "################################# Examples\n",
    "# Example: LHS\n",
    "# param_values = latin.sample(problem, n)\n",
    "\n",
    "# Example: sobol\n",
    "sobol_values = sobol_sequence.sample(n, problem['num_vars'])\n",
    "param_values = util.scale_to_bounds(sobol_values, problem[\"bounds\"])\n",
    "saltelli = saltelli.sample()\n",
    "# Rescale to the unit hypercube for the analysis\n",
    "sample = util.scale_normalized(param_values, problem[\"bounds\"])"
   ]
  },
  {
   "cell_type": "code",
   "execution_count": 23,
   "metadata": {},
   "outputs": [
    {
     "data": {
      "text/plain": [
       "array([[0.        , 0.96142666, 0.99256364, 0.96662314, 0.8241902 ,\n",
       "        0.84462632],\n",
       "       [0.96142666, 0.        , 0.99696755, 0.95323851, 0.95031778,\n",
       "        0.9625054 ],\n",
       "       [0.99256364, 0.99696755, 0.        , 0.88224893, 0.98947582,\n",
       "        0.88144798],\n",
       "       [0.96662314, 0.95323851, 0.88224893, 0.        , 0.95548822,\n",
       "        0.99809946],\n",
       "       [0.8241902 , 0.95031778, 0.98947582, 0.95548822, 0.        ,\n",
       "        0.85209841],\n",
       "       [0.84462632, 0.9625054 , 0.88144798, 0.99809946, 0.85209841,\n",
       "        0.        ]])"
      ]
     },
     "execution_count": 23,
     "metadata": {},
     "output_type": "execute_result"
    }
   ],
   "source": [
    "pval_pr"
   ]
  },
  {
   "cell_type": "code",
   "execution_count": 24,
   "metadata": {},
   "outputs": [
    {
     "data": {
      "text/plain": [
       "(10000, 6)"
      ]
     },
     "execution_count": 24,
     "metadata": {},
     "output_type": "execute_result"
    }
   ],
   "source": [
    "sample.shape"
   ]
  },
  {
   "cell_type": "code",
   "execution_count": 25,
   "metadata": {},
   "outputs": [
    {
     "name": "stdout",
     "output_type": "stream",
     "text": [
      "\n",
      "On a [0, 1] scale 1D coverage is: 0.8587333333333333\n",
      "\n",
      "L2-star discrepancy is: 1.0165399228368593e-07\n",
      "\n",
      "The minimal distance between two points is: 0.08238796603279805\n",
      "\n"
     ]
    },
    {
     "data": {
      "text/plain": [
       "<Figure size 432x288 with 0 Axes>"
      ]
     },
     "metadata": {},
     "output_type": "display_data"
    }
   ],
   "source": [
    "#################################\n",
    "# Correlation properties\n",
    "[z_mk, pval_mk] = mann_kendall.test_sample(sample)\n",
    "[rho, pval_pr] = pearson.test_sample(sample)\n",
    "util.correlation_plots(z_mk, pval_mk, 'Mann-Kendall', problem['names'])\n",
    "util.correlation_plots(rho, pval_pr, 'Pearson', problem['names'])\n",
    "\n",
    "#################################\n",
    "# Space-filling properties\n",
    "\n",
    "# 1D projection\n",
    "x = projection_properties.projection_1D(sample, problem['names'])\n",
    "print('\\nOn a [0, 1] scale 1D coverage is: ' + str(x))\n",
    "\n",
    "# 2D projection (manageable number of variables, here fixed at 11)\n",
    "if problem[\"num_vars\"] < 11:\n",
    "    projection_properties.projection_2D(sample, problem['names'])\n",
    "\n",
    "# L2-star discrepancy\n",
    "dl2 = space_filling_measures.discrepancy(sample)\n",
    "print('\\nL2-star discrepancy is: ' + str(dl2))\n",
    "\n",
    "# Minimal distance between any two points\n",
    "d = space_filling_measures.min_distance(sample, 1)\n",
    "print('\\nThe minimal distance between two points is: ' + str(d) + '\\n')"
   ]
  },
  {
   "cell_type": "code",
   "execution_count": 10,
   "metadata": {},
   "outputs": [
    {
     "data": {
      "text/plain": [
       "1.0"
      ]
     },
     "execution_count": 10,
     "metadata": {},
     "output_type": "execute_result"
    },
    {
     "data": {
      "text/plain": [
       "<Figure size 432x288 with 0 Axes>"
      ]
     },
     "metadata": {},
     "output_type": "display_data"
    }
   ],
   "source": [
    "projection_1D(sample, var_names=names)"
   ]
  },
  {
   "cell_type": "code",
   "execution_count": 13,
   "metadata": {},
   "outputs": [],
   "source": [
    "import numpy as np\n",
    "import matplotlib.pyplot as plt\n",
    "import util\n",
    "\n",
    "\n",
    "# Assess the uniformity of each 1D projection of the sample\n",
    "# Assumes bounds of sample are [0,1]**n\n",
    "def projection_1D(sample, var_names):\n",
    "\n",
    "    [n, dim] = sample.shape\n",
    "    y = np.zeros(sample.shape)\n",
    "\n",
    "    z_int = np.linspace(0, 1, num=n + 1)\n",
    "    binned_sample = util.binning(sample, z_int)\n",
    "\n",
    "    for i in range(n):\n",
    "        y[i, :] = 1*(np.sum(1*(binned_sample == i+1), axis=0) > 0)\n",
    "\n",
    "    proj = np.sum(y, axis=0) / n\n",
    "\n",
    "    plt.bar(np.arange(dim), proj)\n",
    "    plt.ylim(0, max(1, 1.01*np.amax(proj)))\n",
    "    plt.xticks(np.arange(dim), var_names)\n",
    "    plt.ylabel('Coverage of axis')\n",
    "    plt.savefig('1D_coverage_index.png', dpi=400)\n",
    "    plt.clf()\n",
    "\n",
    "    # Return a single index: the average of values for all the variables\n",
    "    return np.mean(proj)\n",
    "\n",
    "\n",
    "# Plots the sample projected on each 2D plane\n",
    "def projection_2D(sample, var_names):\n",
    "\n",
    "    dim = sample.shape[1]\n",
    "\n",
    "    for i in range(dim):\n",
    "        for j in range(dim):\n",
    "            plt.subplot(dim, dim, i*dim + j + 1)\n",
    "            plt.scatter(sample[:, j], sample[:, i], .1)\n",
    "            if j == 0:\n",
    "                plt.ylabel(var_names[i])\n",
    "            if i == dim-1:\n",
    "                plt.xlabel(var_names[j])\n",
    "\n",
    "            plt.xticks([])\n",
    "            plt.yticks([])\n",
    "    plt.savefig('2D-projections.png', dpi=400)\n",
    "    plt.clf()\n",
    "\n",
    "    return None"
   ]
  }
 ],
 "metadata": {
  "kernelspec": {
   "display_name": "Python 3",
   "language": "python",
   "name": "python3"
  },
  "language_info": {
   "codemirror_mode": {
    "name": "ipython",
    "version": 3
   },
   "file_extension": ".py",
   "mimetype": "text/x-python",
   "name": "python",
   "nbconvert_exporter": "python",
   "pygments_lexer": "ipython3",
   "version": "3.7.4"
  }
 },
 "nbformat": 4,
 "nbformat_minor": 2
}
