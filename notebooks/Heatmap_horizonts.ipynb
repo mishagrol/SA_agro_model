{
 "cells": [
  {
   "cell_type": "code",
   "execution_count": 1,
   "metadata": {},
   "outputs": [],
   "source": [
    "import numpy as np\n",
    "import scipy\n",
    "import matplotlib\n",
    "import pandas as pd\n",
    "from numpy import genfromtxt\n",
    "import json\n",
    "import sys\n",
    "import pandas\n",
    "import matplotlib.pyplot as plt\n",
    "import os"
   ]
  },
  {
   "cell_type": "code",
   "execution_count": 2,
   "metadata": {},
   "outputs": [],
   "source": [
    "import plotly.offline as py\n",
    "import plotly.graph_objs as go\n",
    "from numpy import genfromtxt\n",
    "import numpy as np\n",
    "import pandas as pd\n",
    "from plotly.subplots import make_subplots"
   ]
  },
  {
   "cell_type": "code",
   "execution_count": 3,
   "metadata": {},
   "outputs": [],
   "source": [
    "%matplotlib inline"
   ]
  },
  {
   "cell_type": "code",
   "execution_count": 4,
   "metadata": {},
   "outputs": [],
   "source": [
    "# plt.style.use('seaborn')"
   ]
  },
  {
   "cell_type": "code",
   "execution_count": 5,
   "metadata": {},
   "outputs": [],
   "source": [
    "#plt.style.available"
   ]
  },
  {
   "cell_type": "code",
   "execution_count": 6,
   "metadata": {},
   "outputs": [],
   "source": [
    "# os.environ[\"PATH\"] += os.pathsep + '/usr/local/texlive/2019/bin/x86_64-darwin'\n",
    "# print(os.getenv(\"PATH\"))"
   ]
  },
  {
   "cell_type": "code",
   "execution_count": 7,
   "metadata": {},
   "outputs": [],
   "source": [
    "\n",
    "lgndsize = 'x-large'\n",
    "fontsize = 'xx-large'\n",
    "# params = {'text.usetex': True,\n",
    "#           'text.latex.preamble': [ # to conform with acmart style\n",
    "#               r'\\usepackage[T1]{fontenc}',\n",
    "#               r'\\usepackage[libertine]{newtxmath}',\n",
    "#               r'\\usepackage{libertine}'\n",
    "#           ],\n",
    "#           'font.weight': 'regular',\n",
    "#           'legend.fontsize': lgndsize,         \n",
    "#           'axes.labelsize': fontsize,\n",
    "#           'axes.titlesize': fontsize,\n",
    "#           'xtick.labelsize': lgndsize,\n",
    "#           'ytick.labelsize': lgndsize,\n",
    "#          }\n",
    "\n",
    "# plt.style.use(['seaborn-paper']) # see plt.style.available\n",
    "# plt.rcParams.update(params)"
   ]
  },
  {
   "cell_type": "code",
   "execution_count": 8,
   "metadata": {},
   "outputs": [],
   "source": [
    "#df_soybean=pd.read_csv('../SA_6_param/Soybean-S1-6P.csv', delimiter=';', index_col=0)\n",
    "#df_soybean_conf=pd.read_csv('../SA_6_param/Soybean-S1_conf-6P.csv', delimiter=';', index_col=0)"
   ]
  },
  {
   "cell_type": "code",
   "execution_count": 9,
   "metadata": {},
   "outputs": [],
   "source": [
    "names_for_legend=('sugar-beet-2011', 'spring-barley-2012', 'sugar-beet-2014',\n",
    "       'soybean-000-2015', 'sugar-beet-2017')"
   ]
  },
  {
   "cell_type": "code",
   "execution_count": 10,
   "metadata": {},
   "outputs": [],
   "source": [
    "csv_list_horisonts =['Si_BD_Hor.csv', 'Si_Clay_Hor.csv',\\\n",
    "          'Si_CN_Hor.csv', 'Si_pH_Hor.csv', 'Si_Sand_Hor.csv','Si_SOC_Hor.csv']"
   ]
  },
  {
   "cell_type": "code",
   "execution_count": 11,
   "metadata": {},
   "outputs": [],
   "source": [
    "csv_list_horisonts_ST =['ST_BD_Hor.csv', 'ST_Clay_Hor.csv',\\\n",
    "          'ST_CN_Hor.csv', 'ST_pH_Hor.csv', 'ST_Sand_Hor.csv','ST_SOC_Hor.csv']"
   ]
  },
  {
   "cell_type": "markdown",
   "metadata": {},
   "source": [
    "Here `pref` is path to files locally"
   ]
  },
  {
   "cell_type": "code",
   "execution_count": 12,
   "metadata": {},
   "outputs": [
    {
     "name": "stdout",
     "output_type": "stream",
     "text": [
      "/Users/mikhailgasanov/Documents/GIT/SA_agro_model/notebooks\n"
     ]
    }
   ],
   "source": [
    "!pwd"
   ]
  },
  {
   "cell_type": "code",
   "execution_count": 13,
   "metadata": {},
   "outputs": [],
   "source": [
    "pref = '../Results_csv/Results_soil_horizons/'"
   ]
  },
  {
   "cell_type": "code",
   "execution_count": 14,
   "metadata": {},
   "outputs": [],
   "source": [
    "df_BD=pd.read_csv(pref+csv_list_horisonts_ST[0],delimiter=',',index_col=0,skiprows=[9])\n",
    "df_Clay=pd.read_csv(pref+csv_list_horisonts_ST[1],delimiter=',',index_col=0,skiprows=[9])\n",
    "df_CN=pd.read_csv(pref+csv_list_horisonts_ST[2],delimiter=',',index_col=0,skiprows=[9])\n",
    "df_pH=pd.read_csv(pref+csv_list_horisonts_ST[3],delimiter=',',index_col=0,skiprows=[9])\n",
    "df_Sand=pd.read_csv(pref+csv_list_horisonts_ST[4],delimiter=',',index_col=0,skiprows=[9])\n",
    "df_SOC=pd.read_csv(pref+csv_list_horisonts_ST[5],delimiter=',',index_col=0,skiprows=[9])"
   ]
  },
  {
   "cell_type": "code",
   "execution_count": 15,
   "metadata": {},
   "outputs": [],
   "source": [
    "df_pH.fillna(value=0, inplace=True)\n",
    "df_CN.fillna(value=0, inplace=True)"
   ]
  },
  {
   "cell_type": "code",
   "execution_count": 16,
   "metadata": {},
   "outputs": [],
   "source": [
    "new_df_BD=df_BD.sort_index(ascending=False)\n",
    "new_df_Clay=df_Clay.sort_index(ascending=False)\n",
    "new_df_Sand=df_Sand.sort_index(ascending=False)\n",
    "new_df_pH=df_pH.sort_index(ascending=False)\n",
    "new_df_CN=df_CN.sort_index(ascending=False)\n",
    "new_df_SOC=df_SOC.sort_index(ascending=False)"
   ]
  },
  {
   "cell_type": "code",
   "execution_count": 17,
   "metadata": {},
   "outputs": [],
   "source": [
    "skala_depth=(0, 40, 50, 60, 70, 80, 90, 100)"
   ]
  },
  {
   "cell_type": "code",
   "execution_count": 18,
   "metadata": {},
   "outputs": [
    {
     "data": {
      "application/vnd.plotly.v1+json": {
       "config": {
        "plotlyServerURL": "https://plot.ly"
       },
       "data": [
        {
         "colorscale": [
          [
           0,
           "rgb(243, 231, 155)"
          ],
          [
           0.16666666666666666,
           "rgb(250, 196, 132)"
          ],
          [
           0.3333333333333333,
           "rgb(248, 160, 126)"
          ],
          [
           0.5,
           "rgb(235, 127, 134)"
          ],
          [
           0.6666666666666666,
           "rgb(206, 102, 147)"
          ],
          [
           0.8333333333333334,
           "rgb(160, 89, 160)"
          ],
          [
           1,
           "rgb(92, 83, 165)"
          ]
         ],
         "showscale": false,
         "type": "heatmap",
         "x": [
          "sugar-beet-2011",
          "spring-barley-2012",
          "sugar-beet-2014",
          "soybean-000-2015",
          "sugar-beet-2017"
         ],
         "xaxis": "x",
         "y": [
          100,
          90,
          80,
          70,
          60,
          50,
          40,
          30
         ],
         "yaxis": "y",
         "z": [
          [
           0.045926,
           0.103219,
           0.000906,
           0.011792,
           0.000488
          ],
          [
           0.067161,
           0.102637,
           0.001121,
           0.014067,
           0.000394
          ],
          [
           0.082266,
           0.103138,
           0.001198,
           0.014574,
           0.000431
          ],
          [
           0.111759,
           0.102508,
           0.000963,
           0.012356,
           0.001553
          ],
          [
           0.110143,
           0.100588,
           0.000562,
           0.006362,
           0.007137
          ],
          [
           0.048095,
           0.102851,
           0.00339,
           0.017567,
           0.027218
          ],
          [
           0.272747,
           0.105312,
           0.031305,
           0.075047,
           0.085062
          ],
          [
           0.985768,
           0.377217,
           0.952439,
           0.983324,
           0.866296
          ]
         ]
        },
        {
         "colorscale": [
          [
           0,
           "rgb(243, 231, 155)"
          ],
          [
           0.16666666666666666,
           "rgb(250, 196, 132)"
          ],
          [
           0.3333333333333333,
           "rgb(248, 160, 126)"
          ],
          [
           0.5,
           "rgb(235, 127, 134)"
          ],
          [
           0.6666666666666666,
           "rgb(206, 102, 147)"
          ],
          [
           0.8333333333333334,
           "rgb(160, 89, 160)"
          ],
          [
           1,
           "rgb(92, 83, 165)"
          ]
         ],
         "showscale": false,
         "type": "heatmap",
         "x": [
          "sugar-beet-2011",
          "spring-barley-2012",
          "sugar-beet-2014",
          "soybean-000-2015",
          "sugar-beet-2017"
         ],
         "xaxis": "x2",
         "y": [
          100,
          90,
          80,
          70,
          60,
          50,
          40,
          30
         ],
         "yaxis": "y2",
         "z": [
          [
           0,
           0.01,
           0,
           0.02,
           0
          ],
          [
           0,
           0.03,
           0,
           0.02,
           0
          ],
          [
           0,
           0.08,
           0,
           0.02,
           0
          ],
          [
           0,
           0.13,
           0,
           0.02,
           0
          ],
          [
           0,
           0.16,
           0,
           0.02,
           0
          ],
          [
           0,
           0.36,
           0,
           0.02,
           0
          ],
          [
           0,
           0.13,
           0,
           0.02,
           0.01
          ],
          [
           1,
           0.21,
           1,
           0.99,
           1
          ]
         ]
        },
        {
         "colorscale": [
          [
           0,
           "rgb(243, 231, 155)"
          ],
          [
           0.16666666666666666,
           "rgb(250, 196, 132)"
          ],
          [
           0.3333333333333333,
           "rgb(248, 160, 126)"
          ],
          [
           0.5,
           "rgb(235, 127, 134)"
          ],
          [
           0.6666666666666666,
           "rgb(206, 102, 147)"
          ],
          [
           0.8333333333333334,
           "rgb(160, 89, 160)"
          ],
          [
           1,
           "rgb(92, 83, 165)"
          ]
         ],
         "showscale": false,
         "type": "heatmap",
         "x": [
          "sugar-beet-2011",
          "spring-barley-2012",
          "sugar-beet-2014",
          "soybean-000-2015",
          "sugar-beet-2017"
         ],
         "xaxis": "x3",
         "y": [
          100,
          90,
          80,
          70,
          60,
          50,
          40,
          30
         ],
         "yaxis": "y3",
         "z": [
          [
           0,
           0.000183,
           0.000422,
           0.01469,
           0
          ],
          [
           0,
           0.000173,
           0.000426,
           0.014403,
           0
          ],
          [
           0,
           0.000167,
           0.000437,
           0.016871,
           0
          ],
          [
           0,
           0.000165,
           0.000467,
           0.022896,
           0
          ],
          [
           0,
           0.000191,
           0.000557,
           0.02281,
           0
          ],
          [
           0,
           0.000896,
           0.001039,
           0.024847,
           0
          ],
          [
           0,
           0.000472,
           0.005111,
           0.112501,
           0
          ],
          [
           0.999876,
           0.998898,
           0.962235,
           0.996443,
           0.99986
          ]
         ]
        },
        {
         "colorscale": [
          [
           0,
           "rgb(243, 231, 155)"
          ],
          [
           0.16666666666666666,
           "rgb(250, 196, 132)"
          ],
          [
           0.3333333333333333,
           "rgb(248, 160, 126)"
          ],
          [
           0.5,
           "rgb(235, 127, 134)"
          ],
          [
           0.6666666666666666,
           "rgb(206, 102, 147)"
          ],
          [
           0.8333333333333334,
           "rgb(160, 89, 160)"
          ],
          [
           1,
           "rgb(92, 83, 165)"
          ]
         ],
         "showscale": false,
         "type": "heatmap",
         "x": [
          "sugar-beet-2011",
          "spring-barley-2012",
          "sugar-beet-2014",
          "soybean-000-2015",
          "sugar-beet-2017"
         ],
         "xaxis": "x4",
         "y": [
          100,
          90,
          80,
          70,
          60,
          50,
          40,
          30
         ],
         "yaxis": "y4",
         "z": [
          [
           0,
           0,
           0,
           0,
           0
          ],
          [
           0,
           0,
           0,
           0,
           0
          ],
          [
           0,
           0,
           0,
           0,
           0
          ],
          [
           0,
           0,
           0,
           0,
           0
          ],
          [
           0,
           0,
           0,
           0,
           0
          ],
          [
           0,
           0,
           0,
           0,
           0
          ],
          [
           0,
           0,
           0.000701,
           0.000374,
           0
          ],
          [
           0,
           0,
           0.999672,
           1.00029,
           0
          ]
         ]
        },
        {
         "colorscale": [
          [
           0,
           "rgb(243, 231, 155)"
          ],
          [
           0.16666666666666666,
           "rgb(250, 196, 132)"
          ],
          [
           0.3333333333333333,
           "rgb(248, 160, 126)"
          ],
          [
           0.5,
           "rgb(235, 127, 134)"
          ],
          [
           0.6666666666666666,
           "rgb(206, 102, 147)"
          ],
          [
           0.8333333333333334,
           "rgb(160, 89, 160)"
          ],
          [
           1,
           "rgb(92, 83, 165)"
          ]
         ],
         "showscale": false,
         "type": "heatmap",
         "x": [
          "sugar-beet-2011",
          "spring-barley-2012",
          "sugar-beet-2014",
          "soybean-000-2015",
          "sugar-beet-2017"
         ],
         "xaxis": "x5",
         "y": [
          100,
          90,
          80,
          70,
          60,
          50,
          40,
          30
         ],
         "yaxis": "y5",
         "z": [
          [
           0,
           0,
           0,
           0,
           0
          ],
          [
           0,
           0,
           0,
           0,
           0
          ],
          [
           0,
           0,
           0,
           0,
           0
          ],
          [
           0,
           0,
           0,
           0,
           0
          ],
          [
           0,
           0,
           0,
           0,
           0
          ],
          [
           0,
           0,
           0,
           0,
           0
          ],
          [
           0,
           0,
           0.549327,
           0.172935,
           0
          ],
          [
           0,
           0,
           0.910325,
           0.994835,
           0
          ]
         ]
        },
        {
         "autocolorscale": false,
         "colorscale": [
          [
           0,
           "rgb(243, 231, 155)"
          ],
          [
           0.16666666666666666,
           "rgb(250, 196, 132)"
          ],
          [
           0.3333333333333333,
           "rgb(248, 160, 126)"
          ],
          [
           0.5,
           "rgb(235, 127, 134)"
          ],
          [
           0.6666666666666666,
           "rgb(206, 102, 147)"
          ],
          [
           0.8333333333333334,
           "rgb(160, 89, 160)"
          ],
          [
           1,
           "rgb(92, 83, 165)"
          ]
         ],
         "type": "heatmap",
         "x": [
          "sugar-beet-2011",
          "spring-barley-2012",
          "sugar-beet-2014",
          "soybean-000-2015",
          "sugar-beet-2017"
         ],
         "xaxis": "x6",
         "y": [
          100,
          90,
          80,
          70,
          60,
          50,
          40,
          30
         ],
         "yaxis": "y6",
         "z": [
          [
           0.00005,
           0.024008,
           0.027991,
           0.002228,
           0.002281
          ],
          [
           0.000099,
           0.025284,
           0.039827,
           0.003052,
           0.00224
          ],
          [
           0.00018,
           0.016894,
           0.043777,
           0.003465,
           0.00104
          ],
          [
           0.000271,
           0.0102,
           0.034786,
           0.003438,
           0.001263
          ],
          [
           0.00022,
           0.075129,
           0.011845,
           0.001807,
           0.020307
          ],
          [
           0.000331,
           0.204008,
           0.134361,
           0.003538,
           0.11545
          ],
          [
           0.008464,
           0.355964,
           0.396445,
           0.015664,
           0.390487
          ],
          [
           0.991517,
           0.957261,
           0.986365,
           0.997088,
           0.471104
          ]
         ]
        }
       ],
       "layout": {
        "annotations": [
         {
          "font": {
           "size": 16
          },
          "showarrow": false,
          "text": "Bulk Density",
          "x": 0.14444444444444446,
          "xanchor": "center",
          "xref": "paper",
          "y": 1,
          "yanchor": "bottom",
          "yref": "paper"
         },
         {
          "font": {
           "size": 16
          },
          "showarrow": false,
          "text": "Clay",
          "x": 0.5,
          "xanchor": "center",
          "xref": "paper",
          "y": 1,
          "yanchor": "bottom",
          "yref": "paper"
         },
         {
          "font": {
           "size": 16
          },
          "showarrow": false,
          "text": "Sand",
          "x": 0.8555555555555556,
          "xanchor": "center",
          "xref": "paper",
          "y": 1,
          "yanchor": "bottom",
          "yref": "paper"
         },
         {
          "font": {
           "size": 16
          },
          "showarrow": false,
          "text": "pH",
          "x": 0.14444444444444446,
          "xanchor": "center",
          "xref": "paper",
          "y": 0.375,
          "yanchor": "bottom",
          "yref": "paper"
         },
         {
          "font": {
           "size": 16
          },
          "showarrow": false,
          "text": "C:N ratio",
          "x": 0.5,
          "xanchor": "center",
          "xref": "paper",
          "y": 0.375,
          "yanchor": "bottom",
          "yref": "paper"
         },
         {
          "font": {
           "size": 16
          },
          "showarrow": false,
          "text": "SOC",
          "x": 0.8555555555555556,
          "xanchor": "center",
          "xref": "paper",
          "y": 0.375,
          "yanchor": "bottom",
          "yref": "paper"
         }
        ],
        "font": {
         "color": "black",
         "family": "Roman, serif",
         "size": 12
        },
        "template": {
         "data": {
          "bar": [
           {
            "error_x": {
             "color": "#2a3f5f"
            },
            "error_y": {
             "color": "#2a3f5f"
            },
            "marker": {
             "line": {
              "color": "#E5ECF6",
              "width": 0.5
             },
             "pattern": {
              "fillmode": "overlay",
              "size": 10,
              "solidity": 0.2
             }
            },
            "type": "bar"
           }
          ],
          "barpolar": [
           {
            "marker": {
             "line": {
              "color": "#E5ECF6",
              "width": 0.5
             },
             "pattern": {
              "fillmode": "overlay",
              "size": 10,
              "solidity": 0.2
             }
            },
            "type": "barpolar"
           }
          ],
          "carpet": [
           {
            "aaxis": {
             "endlinecolor": "#2a3f5f",
             "gridcolor": "white",
             "linecolor": "white",
             "minorgridcolor": "white",
             "startlinecolor": "#2a3f5f"
            },
            "baxis": {
             "endlinecolor": "#2a3f5f",
             "gridcolor": "white",
             "linecolor": "white",
             "minorgridcolor": "white",
             "startlinecolor": "#2a3f5f"
            },
            "type": "carpet"
           }
          ],
          "choropleth": [
           {
            "colorbar": {
             "outlinewidth": 0,
             "ticks": ""
            },
            "type": "choropleth"
           }
          ],
          "contour": [
           {
            "colorbar": {
             "outlinewidth": 0,
             "ticks": ""
            },
            "colorscale": [
             [
              0,
              "#0d0887"
             ],
             [
              0.1111111111111111,
              "#46039f"
             ],
             [
              0.2222222222222222,
              "#7201a8"
             ],
             [
              0.3333333333333333,
              "#9c179e"
             ],
             [
              0.4444444444444444,
              "#bd3786"
             ],
             [
              0.5555555555555556,
              "#d8576b"
             ],
             [
              0.6666666666666666,
              "#ed7953"
             ],
             [
              0.7777777777777778,
              "#fb9f3a"
             ],
             [
              0.8888888888888888,
              "#fdca26"
             ],
             [
              1,
              "#f0f921"
             ]
            ],
            "type": "contour"
           }
          ],
          "contourcarpet": [
           {
            "colorbar": {
             "outlinewidth": 0,
             "ticks": ""
            },
            "type": "contourcarpet"
           }
          ],
          "heatmap": [
           {
            "colorbar": {
             "outlinewidth": 0,
             "ticks": ""
            },
            "colorscale": [
             [
              0,
              "#0d0887"
             ],
             [
              0.1111111111111111,
              "#46039f"
             ],
             [
              0.2222222222222222,
              "#7201a8"
             ],
             [
              0.3333333333333333,
              "#9c179e"
             ],
             [
              0.4444444444444444,
              "#bd3786"
             ],
             [
              0.5555555555555556,
              "#d8576b"
             ],
             [
              0.6666666666666666,
              "#ed7953"
             ],
             [
              0.7777777777777778,
              "#fb9f3a"
             ],
             [
              0.8888888888888888,
              "#fdca26"
             ],
             [
              1,
              "#f0f921"
             ]
            ],
            "type": "heatmap"
           }
          ],
          "heatmapgl": [
           {
            "colorbar": {
             "outlinewidth": 0,
             "ticks": ""
            },
            "colorscale": [
             [
              0,
              "#0d0887"
             ],
             [
              0.1111111111111111,
              "#46039f"
             ],
             [
              0.2222222222222222,
              "#7201a8"
             ],
             [
              0.3333333333333333,
              "#9c179e"
             ],
             [
              0.4444444444444444,
              "#bd3786"
             ],
             [
              0.5555555555555556,
              "#d8576b"
             ],
             [
              0.6666666666666666,
              "#ed7953"
             ],
             [
              0.7777777777777778,
              "#fb9f3a"
             ],
             [
              0.8888888888888888,
              "#fdca26"
             ],
             [
              1,
              "#f0f921"
             ]
            ],
            "type": "heatmapgl"
           }
          ],
          "histogram": [
           {
            "marker": {
             "pattern": {
              "fillmode": "overlay",
              "size": 10,
              "solidity": 0.2
             }
            },
            "type": "histogram"
           }
          ],
          "histogram2d": [
           {
            "colorbar": {
             "outlinewidth": 0,
             "ticks": ""
            },
            "colorscale": [
             [
              0,
              "#0d0887"
             ],
             [
              0.1111111111111111,
              "#46039f"
             ],
             [
              0.2222222222222222,
              "#7201a8"
             ],
             [
              0.3333333333333333,
              "#9c179e"
             ],
             [
              0.4444444444444444,
              "#bd3786"
             ],
             [
              0.5555555555555556,
              "#d8576b"
             ],
             [
              0.6666666666666666,
              "#ed7953"
             ],
             [
              0.7777777777777778,
              "#fb9f3a"
             ],
             [
              0.8888888888888888,
              "#fdca26"
             ],
             [
              1,
              "#f0f921"
             ]
            ],
            "type": "histogram2d"
           }
          ],
          "histogram2dcontour": [
           {
            "colorbar": {
             "outlinewidth": 0,
             "ticks": ""
            },
            "colorscale": [
             [
              0,
              "#0d0887"
             ],
             [
              0.1111111111111111,
              "#46039f"
             ],
             [
              0.2222222222222222,
              "#7201a8"
             ],
             [
              0.3333333333333333,
              "#9c179e"
             ],
             [
              0.4444444444444444,
              "#bd3786"
             ],
             [
              0.5555555555555556,
              "#d8576b"
             ],
             [
              0.6666666666666666,
              "#ed7953"
             ],
             [
              0.7777777777777778,
              "#fb9f3a"
             ],
             [
              0.8888888888888888,
              "#fdca26"
             ],
             [
              1,
              "#f0f921"
             ]
            ],
            "type": "histogram2dcontour"
           }
          ],
          "mesh3d": [
           {
            "colorbar": {
             "outlinewidth": 0,
             "ticks": ""
            },
            "type": "mesh3d"
           }
          ],
          "parcoords": [
           {
            "line": {
             "colorbar": {
              "outlinewidth": 0,
              "ticks": ""
             }
            },
            "type": "parcoords"
           }
          ],
          "pie": [
           {
            "automargin": true,
            "type": "pie"
           }
          ],
          "scatter": [
           {
            "fillpattern": {
             "fillmode": "overlay",
             "size": 10,
             "solidity": 0.2
            },
            "type": "scatter"
           }
          ],
          "scatter3d": [
           {
            "line": {
             "colorbar": {
              "outlinewidth": 0,
              "ticks": ""
             }
            },
            "marker": {
             "colorbar": {
              "outlinewidth": 0,
              "ticks": ""
             }
            },
            "type": "scatter3d"
           }
          ],
          "scattercarpet": [
           {
            "marker": {
             "colorbar": {
              "outlinewidth": 0,
              "ticks": ""
             }
            },
            "type": "scattercarpet"
           }
          ],
          "scattergeo": [
           {
            "marker": {
             "colorbar": {
              "outlinewidth": 0,
              "ticks": ""
             }
            },
            "type": "scattergeo"
           }
          ],
          "scattergl": [
           {
            "marker": {
             "colorbar": {
              "outlinewidth": 0,
              "ticks": ""
             }
            },
            "type": "scattergl"
           }
          ],
          "scattermapbox": [
           {
            "marker": {
             "colorbar": {
              "outlinewidth": 0,
              "ticks": ""
             }
            },
            "type": "scattermapbox"
           }
          ],
          "scatterpolar": [
           {
            "marker": {
             "colorbar": {
              "outlinewidth": 0,
              "ticks": ""
             }
            },
            "type": "scatterpolar"
           }
          ],
          "scatterpolargl": [
           {
            "marker": {
             "colorbar": {
              "outlinewidth": 0,
              "ticks": ""
             }
            },
            "type": "scatterpolargl"
           }
          ],
          "scatterternary": [
           {
            "marker": {
             "colorbar": {
              "outlinewidth": 0,
              "ticks": ""
             }
            },
            "type": "scatterternary"
           }
          ],
          "surface": [
           {
            "colorbar": {
             "outlinewidth": 0,
             "ticks": ""
            },
            "colorscale": [
             [
              0,
              "#0d0887"
             ],
             [
              0.1111111111111111,
              "#46039f"
             ],
             [
              0.2222222222222222,
              "#7201a8"
             ],
             [
              0.3333333333333333,
              "#9c179e"
             ],
             [
              0.4444444444444444,
              "#bd3786"
             ],
             [
              0.5555555555555556,
              "#d8576b"
             ],
             [
              0.6666666666666666,
              "#ed7953"
             ],
             [
              0.7777777777777778,
              "#fb9f3a"
             ],
             [
              0.8888888888888888,
              "#fdca26"
             ],
             [
              1,
              "#f0f921"
             ]
            ],
            "type": "surface"
           }
          ],
          "table": [
           {
            "cells": {
             "fill": {
              "color": "#EBF0F8"
             },
             "line": {
              "color": "white"
             }
            },
            "header": {
             "fill": {
              "color": "#C8D4E3"
             },
             "line": {
              "color": "white"
             }
            },
            "type": "table"
           }
          ]
         },
         "layout": {
          "annotationdefaults": {
           "arrowcolor": "#2a3f5f",
           "arrowhead": 0,
           "arrowwidth": 1
          },
          "autotypenumbers": "strict",
          "coloraxis": {
           "colorbar": {
            "outlinewidth": 0,
            "ticks": ""
           }
          },
          "colorscale": {
           "diverging": [
            [
             0,
             "#8e0152"
            ],
            [
             0.1,
             "#c51b7d"
            ],
            [
             0.2,
             "#de77ae"
            ],
            [
             0.3,
             "#f1b6da"
            ],
            [
             0.4,
             "#fde0ef"
            ],
            [
             0.5,
             "#f7f7f7"
            ],
            [
             0.6,
             "#e6f5d0"
            ],
            [
             0.7,
             "#b8e186"
            ],
            [
             0.8,
             "#7fbc41"
            ],
            [
             0.9,
             "#4d9221"
            ],
            [
             1,
             "#276419"
            ]
           ],
           "sequential": [
            [
             0,
             "#0d0887"
            ],
            [
             0.1111111111111111,
             "#46039f"
            ],
            [
             0.2222222222222222,
             "#7201a8"
            ],
            [
             0.3333333333333333,
             "#9c179e"
            ],
            [
             0.4444444444444444,
             "#bd3786"
            ],
            [
             0.5555555555555556,
             "#d8576b"
            ],
            [
             0.6666666666666666,
             "#ed7953"
            ],
            [
             0.7777777777777778,
             "#fb9f3a"
            ],
            [
             0.8888888888888888,
             "#fdca26"
            ],
            [
             1,
             "#f0f921"
            ]
           ],
           "sequentialminus": [
            [
             0,
             "#0d0887"
            ],
            [
             0.1111111111111111,
             "#46039f"
            ],
            [
             0.2222222222222222,
             "#7201a8"
            ],
            [
             0.3333333333333333,
             "#9c179e"
            ],
            [
             0.4444444444444444,
             "#bd3786"
            ],
            [
             0.5555555555555556,
             "#d8576b"
            ],
            [
             0.6666666666666666,
             "#ed7953"
            ],
            [
             0.7777777777777778,
             "#fb9f3a"
            ],
            [
             0.8888888888888888,
             "#fdca26"
            ],
            [
             1,
             "#f0f921"
            ]
           ]
          },
          "colorway": [
           "#636efa",
           "#EF553B",
           "#00cc96",
           "#ab63fa",
           "#FFA15A",
           "#19d3f3",
           "#FF6692",
           "#B6E880",
           "#FF97FF",
           "#FECB52"
          ],
          "font": {
           "color": "#2a3f5f"
          },
          "geo": {
           "bgcolor": "white",
           "lakecolor": "white",
           "landcolor": "#E5ECF6",
           "showlakes": true,
           "showland": true,
           "subunitcolor": "white"
          },
          "hoverlabel": {
           "align": "left"
          },
          "hovermode": "closest",
          "mapbox": {
           "style": "light"
          },
          "paper_bgcolor": "white",
          "plot_bgcolor": "#E5ECF6",
          "polar": {
           "angularaxis": {
            "gridcolor": "white",
            "linecolor": "white",
            "ticks": ""
           },
           "bgcolor": "#E5ECF6",
           "radialaxis": {
            "gridcolor": "white",
            "linecolor": "white",
            "ticks": ""
           }
          },
          "scene": {
           "xaxis": {
            "backgroundcolor": "#E5ECF6",
            "gridcolor": "white",
            "gridwidth": 2,
            "linecolor": "white",
            "showbackground": true,
            "ticks": "",
            "zerolinecolor": "white"
           },
           "yaxis": {
            "backgroundcolor": "#E5ECF6",
            "gridcolor": "white",
            "gridwidth": 2,
            "linecolor": "white",
            "showbackground": true,
            "ticks": "",
            "zerolinecolor": "white"
           },
           "zaxis": {
            "backgroundcolor": "#E5ECF6",
            "gridcolor": "white",
            "gridwidth": 2,
            "linecolor": "white",
            "showbackground": true,
            "ticks": "",
            "zerolinecolor": "white"
           }
          },
          "shapedefaults": {
           "line": {
            "color": "#2a3f5f"
           }
          },
          "ternary": {
           "aaxis": {
            "gridcolor": "white",
            "linecolor": "white",
            "ticks": ""
           },
           "baxis": {
            "gridcolor": "white",
            "linecolor": "white",
            "ticks": ""
           },
           "bgcolor": "#E5ECF6",
           "caxis": {
            "gridcolor": "white",
            "linecolor": "white",
            "ticks": ""
           }
          },
          "title": {
           "x": 0.05
          },
          "xaxis": {
           "automargin": true,
           "gridcolor": "white",
           "linecolor": "white",
           "ticks": "",
           "title": {
            "standoff": 15
           },
           "zerolinecolor": "white",
           "zerolinewidth": 2
          },
          "yaxis": {
           "automargin": true,
           "gridcolor": "white",
           "linecolor": "white",
           "ticks": "",
           "title": {
            "standoff": 15
           },
           "zerolinecolor": "white",
           "zerolinewidth": 2
          }
         }
        },
        "xaxis": {
         "anchor": "y",
         "domain": [
          0,
          0.2888888888888889
         ],
         "tickvals": []
        },
        "xaxis2": {
         "anchor": "y2",
         "domain": [
          0.35555555555555557,
          0.6444444444444445
         ],
         "tickvals": []
        },
        "xaxis3": {
         "anchor": "y3",
         "domain": [
          0.7111111111111111,
          1
         ],
         "tickvals": []
        },
        "xaxis4": {
         "anchor": "y4",
         "domain": [
          0,
          0.2888888888888889
         ]
        },
        "xaxis5": {
         "anchor": "y5",
         "domain": [
          0.35555555555555557,
          0.6444444444444445
         ]
        },
        "xaxis6": {
         "anchor": "y6",
         "domain": [
          0.7111111111111111,
          1
         ]
        },
        "yaxis": {
         "anchor": "x",
         "autorange": "reversed",
         "domain": [
          0.625,
          1
         ],
         "title": {
          "text": "Depth, cm"
         }
        },
        "yaxis2": {
         "anchor": "x2",
         "autorange": "reversed",
         "domain": [
          0.625,
          1
         ]
        },
        "yaxis3": {
         "anchor": "x3",
         "autorange": "reversed",
         "domain": [
          0.625,
          1
         ]
        },
        "yaxis4": {
         "anchor": "x4",
         "autorange": "reversed",
         "domain": [
          0,
          0.375
         ],
         "title": {
          "text": "Depth, cm"
         }
        },
        "yaxis5": {
         "anchor": "x5",
         "autorange": "reversed",
         "domain": [
          0,
          0.375
         ]
        },
        "yaxis6": {
         "anchor": "x6",
         "autorange": "reversed",
         "domain": [
          0,
          0.375
         ]
        }
       }
      }
     },
     "metadata": {},
     "output_type": "display_data"
    }
   ],
   "source": [
    "fig = make_subplots(rows=2, cols=3,\n",
    "                    subplot_titles=(\"Bulk Density\",\"Clay\", \\\n",
    "                                    \"Sand\", \"pH\", \"C:N ratio\", \"SOC\"))\n",
    "fig.add_trace(go.Heatmap(\n",
    "        z=new_df_BD,\n",
    "        x=new_df_BD.columns,\n",
    "        y=new_df_BD.index,\n",
    "        showscale=False,\n",
    "        colorscale=\"Sunset\"),\n",
    "        row=1,col=1)\n",
    "fig.add_trace(go.Heatmap(\n",
    "        z=new_df_Clay,\n",
    "        x=new_df_Clay.columns,\n",
    "        y=new_df_Clay.index,\n",
    "        showscale=False,\n",
    "        colorscale=\"Sunset\"),\n",
    "        row=1,col=2)\n",
    "fig.add_trace(go.Heatmap(\n",
    "        z=new_df_Sand,\n",
    "        x=new_df_Sand.columns,\n",
    "        y=new_df_Sand.index,\n",
    "        showscale=False,\n",
    "        colorscale=\"Sunset\"),\n",
    "        row=1,col=3)\n",
    "fig.add_trace(go.Heatmap(\n",
    "        z=new_df_pH,\n",
    "        x=new_df_pH.columns,\n",
    "        y=new_df_pH.index,\n",
    "        showscale=False,\n",
    "        colorscale=\"Sunset\"),\n",
    "        row=2,col=1)\n",
    "fig.add_trace(go.Heatmap(\n",
    "        z=new_df_CN,\n",
    "        x=new_df_CN.columns,\n",
    "        y=new_df_CN.index,\n",
    "        showscale=False,\n",
    "        colorscale=\"Sunset\"),\n",
    "               row=2,col=2)\n",
    "fig.add_trace(go.Heatmap(\n",
    "        z=new_df_SOC,\n",
    "        x=new_df_SOC.columns,\n",
    "        y=new_df_SOC.index,\n",
    "        autocolorscale=False,\n",
    "        colorscale=\"Sunset\"),\n",
    "        row=2,col=3)\n",
    "fig.update_xaxes(tickvals=[], row=1)\n",
    "fig.update_yaxes(autorange='reversed')\n",
    "fig.update_yaxes(title='Depth, cm', row=1,col=1)\n",
    "fig.update_yaxes(title='Depth, cm', row=2,col=1)\n",
    "fig.update_layout( font=dict(\n",
    "        family=\"Roman, serif\",\n",
    "        size=12,\n",
    "        color=\"black\"))\n",
    "\n",
    "fig.show()\n",
    "# fig.write_image('Heatmap_horizonts_Sunset.svg')"
   ]
  },
  {
   "cell_type": "code",
   "execution_count": 19,
   "metadata": {},
   "outputs": [
    {
     "data": {
      "application/vnd.plotly.v1+json": {
       "config": {
        "plotlyServerURL": "https://plot.ly"
       },
       "data": [
        {
         "colorscale": [
          [
           0,
           "rgb(243, 231, 155)"
          ],
          [
           0.16666666666666666,
           "rgb(250, 196, 132)"
          ],
          [
           0.3333333333333333,
           "rgb(248, 160, 126)"
          ],
          [
           0.5,
           "rgb(235, 127, 134)"
          ],
          [
           0.6666666666666666,
           "rgb(206, 102, 147)"
          ],
          [
           0.8333333333333334,
           "rgb(160, 89, 160)"
          ],
          [
           1,
           "rgb(92, 83, 165)"
          ]
         ],
         "showscale": false,
         "type": "heatmap",
         "x": [
          "sugar-beet-2011",
          "spring-barley-2012",
          "sugar-beet-2014",
          "soybean-000-2015",
          "sugar-beet-2017"
         ],
         "xaxis": "x",
         "y": [
          100,
          90,
          80,
          70,
          60,
          50,
          40,
          30
         ],
         "yaxis": "y",
         "z": [
          [
           0.045926,
           0.103219,
           0.000906,
           0.011792,
           0.000488
          ],
          [
           0.067161,
           0.102637,
           0.001121,
           0.014067,
           0.000394
          ],
          [
           0.082266,
           0.103138,
           0.001198,
           0.014574,
           0.000431
          ],
          [
           0.111759,
           0.102508,
           0.000963,
           0.012356,
           0.001553
          ],
          [
           0.110143,
           0.100588,
           0.000562,
           0.006362,
           0.007137
          ],
          [
           0.048095,
           0.102851,
           0.00339,
           0.017567,
           0.027218
          ],
          [
           0.272747,
           0.105312,
           0.031305,
           0.075047,
           0.085062
          ],
          [
           0.985768,
           0.377217,
           0.952439,
           0.983324,
           0.866296
          ]
         ]
        },
        {
         "colorscale": [
          [
           0,
           "rgb(243, 231, 155)"
          ],
          [
           0.16666666666666666,
           "rgb(250, 196, 132)"
          ],
          [
           0.3333333333333333,
           "rgb(248, 160, 126)"
          ],
          [
           0.5,
           "rgb(235, 127, 134)"
          ],
          [
           0.6666666666666666,
           "rgb(206, 102, 147)"
          ],
          [
           0.8333333333333334,
           "rgb(160, 89, 160)"
          ],
          [
           1,
           "rgb(92, 83, 165)"
          ]
         ],
         "showscale": false,
         "type": "heatmap",
         "x": [
          "sugar-beet-2011",
          "spring-barley-2012",
          "sugar-beet-2014",
          "soybean-000-2015",
          "sugar-beet-2017"
         ],
         "xaxis": "x2",
         "y": [
          100,
          90,
          80,
          70,
          60,
          50,
          40,
          30
         ],
         "yaxis": "y2",
         "z": [
          [
           0,
           0.01,
           0,
           0.02,
           0
          ],
          [
           0,
           0.03,
           0,
           0.02,
           0
          ],
          [
           0,
           0.08,
           0,
           0.02,
           0
          ],
          [
           0,
           0.13,
           0,
           0.02,
           0
          ],
          [
           0,
           0.16,
           0,
           0.02,
           0
          ],
          [
           0,
           0.36,
           0,
           0.02,
           0
          ],
          [
           0,
           0.13,
           0,
           0.02,
           0.01
          ],
          [
           1,
           0.21,
           1,
           0.99,
           1
          ]
         ]
        },
        {
         "colorscale": [
          [
           0,
           "rgb(243, 231, 155)"
          ],
          [
           0.16666666666666666,
           "rgb(250, 196, 132)"
          ],
          [
           0.3333333333333333,
           "rgb(248, 160, 126)"
          ],
          [
           0.5,
           "rgb(235, 127, 134)"
          ],
          [
           0.6666666666666666,
           "rgb(206, 102, 147)"
          ],
          [
           0.8333333333333334,
           "rgb(160, 89, 160)"
          ],
          [
           1,
           "rgb(92, 83, 165)"
          ]
         ],
         "showscale": false,
         "type": "heatmap",
         "x": [
          "sugar-beet-2011",
          "spring-barley-2012",
          "sugar-beet-2014",
          "soybean-000-2015",
          "sugar-beet-2017"
         ],
         "xaxis": "x3",
         "y": [
          100,
          90,
          80,
          70,
          60,
          50,
          40,
          30
         ],
         "yaxis": "y3",
         "z": [
          [
           0,
           0.000183,
           0.000422,
           0.01469,
           0
          ],
          [
           0,
           0.000173,
           0.000426,
           0.014403,
           0
          ],
          [
           0,
           0.000167,
           0.000437,
           0.016871,
           0
          ],
          [
           0,
           0.000165,
           0.000467,
           0.022896,
           0
          ],
          [
           0,
           0.000191,
           0.000557,
           0.02281,
           0
          ],
          [
           0,
           0.000896,
           0.001039,
           0.024847,
           0
          ],
          [
           0,
           0.000472,
           0.005111,
           0.112501,
           0
          ],
          [
           0.999876,
           0.998898,
           0.962235,
           0.996443,
           0.99986
          ]
         ]
        },
        {
         "colorscale": [
          [
           0,
           "rgb(243, 231, 155)"
          ],
          [
           0.16666666666666666,
           "rgb(250, 196, 132)"
          ],
          [
           0.3333333333333333,
           "rgb(248, 160, 126)"
          ],
          [
           0.5,
           "rgb(235, 127, 134)"
          ],
          [
           0.6666666666666666,
           "rgb(206, 102, 147)"
          ],
          [
           0.8333333333333334,
           "rgb(160, 89, 160)"
          ],
          [
           1,
           "rgb(92, 83, 165)"
          ]
         ],
         "showscale": false,
         "type": "heatmap",
         "x": [
          "sugar-beet-2011",
          "spring-barley-2012",
          "sugar-beet-2014",
          "soybean-000-2015",
          "sugar-beet-2017"
         ],
         "xaxis": "x4",
         "y": [
          100,
          90,
          80,
          70,
          60,
          50,
          40,
          30
         ],
         "yaxis": "y4",
         "z": [
          [
           0,
           0,
           0,
           0,
           0
          ],
          [
           0,
           0,
           0,
           0,
           0
          ],
          [
           0,
           0,
           0,
           0,
           0
          ],
          [
           0,
           0,
           0,
           0,
           0
          ],
          [
           0,
           0,
           0,
           0,
           0
          ],
          [
           0,
           0,
           0,
           0,
           0
          ],
          [
           0,
           0,
           0.000701,
           0.000374,
           0
          ],
          [
           0,
           0,
           0.999672,
           1.00029,
           0
          ]
         ]
        },
        {
         "colorscale": [
          [
           0,
           "rgb(243, 231, 155)"
          ],
          [
           0.16666666666666666,
           "rgb(250, 196, 132)"
          ],
          [
           0.3333333333333333,
           "rgb(248, 160, 126)"
          ],
          [
           0.5,
           "rgb(235, 127, 134)"
          ],
          [
           0.6666666666666666,
           "rgb(206, 102, 147)"
          ],
          [
           0.8333333333333334,
           "rgb(160, 89, 160)"
          ],
          [
           1,
           "rgb(92, 83, 165)"
          ]
         ],
         "showscale": false,
         "type": "heatmap",
         "x": [
          "sugar-beet-2011",
          "spring-barley-2012",
          "sugar-beet-2014",
          "soybean-000-2015",
          "sugar-beet-2017"
         ],
         "xaxis": "x5",
         "y": [
          100,
          90,
          80,
          70,
          60,
          50,
          40,
          30
         ],
         "yaxis": "y5",
         "z": [
          [
           0,
           0,
           0,
           0,
           0
          ],
          [
           0,
           0,
           0,
           0,
           0
          ],
          [
           0,
           0,
           0,
           0,
           0
          ],
          [
           0,
           0,
           0,
           0,
           0
          ],
          [
           0,
           0,
           0,
           0,
           0
          ],
          [
           0,
           0,
           0,
           0,
           0
          ],
          [
           0,
           0,
           0.549327,
           0.172935,
           0
          ],
          [
           0,
           0,
           0.910325,
           0.994835,
           0
          ]
         ]
        },
        {
         "autocolorscale": false,
         "colorscale": [
          [
           0,
           "rgb(243, 231, 155)"
          ],
          [
           0.16666666666666666,
           "rgb(250, 196, 132)"
          ],
          [
           0.3333333333333333,
           "rgb(248, 160, 126)"
          ],
          [
           0.5,
           "rgb(235, 127, 134)"
          ],
          [
           0.6666666666666666,
           "rgb(206, 102, 147)"
          ],
          [
           0.8333333333333334,
           "rgb(160, 89, 160)"
          ],
          [
           1,
           "rgb(92, 83, 165)"
          ]
         ],
         "type": "heatmap",
         "x": [
          "sugar-beet-2011",
          "spring-barley-2012",
          "sugar-beet-2014",
          "soybean-000-2015",
          "sugar-beet-2017"
         ],
         "xaxis": "x6",
         "y": [
          100,
          90,
          80,
          70,
          60,
          50,
          40,
          30
         ],
         "yaxis": "y6",
         "z": [
          [
           0.00005,
           0.024008,
           0.027991,
           0.002228,
           0.002281
          ],
          [
           0.000099,
           0.025284,
           0.039827,
           0.003052,
           0.00224
          ],
          [
           0.00018,
           0.016894,
           0.043777,
           0.003465,
           0.00104
          ],
          [
           0.000271,
           0.0102,
           0.034786,
           0.003438,
           0.001263
          ],
          [
           0.00022,
           0.075129,
           0.011845,
           0.001807,
           0.020307
          ],
          [
           0.000331,
           0.204008,
           0.134361,
           0.003538,
           0.11545
          ],
          [
           0.008464,
           0.355964,
           0.396445,
           0.015664,
           0.390487
          ],
          [
           0.991517,
           0.957261,
           0.986365,
           0.997088,
           0.471104
          ]
         ]
        }
       ],
       "layout": {
        "annotations": [
         {
          "font": {
           "size": 16
          },
          "showarrow": false,
          "text": "Bulk Density",
          "x": 0.14444444444444446,
          "xanchor": "center",
          "xref": "paper",
          "y": 1,
          "yanchor": "bottom",
          "yref": "paper"
         },
         {
          "font": {
           "size": 16
          },
          "showarrow": false,
          "text": "Clay",
          "x": 0.5,
          "xanchor": "center",
          "xref": "paper",
          "y": 1,
          "yanchor": "bottom",
          "yref": "paper"
         },
         {
          "font": {
           "size": 16
          },
          "showarrow": false,
          "text": "Sand",
          "x": 0.8555555555555556,
          "xanchor": "center",
          "xref": "paper",
          "y": 1,
          "yanchor": "bottom",
          "yref": "paper"
         },
         {
          "font": {
           "size": 16
          },
          "showarrow": false,
          "text": "pH",
          "x": 0.14444444444444446,
          "xanchor": "center",
          "xref": "paper",
          "y": 0.375,
          "yanchor": "bottom",
          "yref": "paper"
         },
         {
          "font": {
           "size": 16
          },
          "showarrow": false,
          "text": "C:N ratio",
          "x": 0.5,
          "xanchor": "center",
          "xref": "paper",
          "y": 0.375,
          "yanchor": "bottom",
          "yref": "paper"
         },
         {
          "font": {
           "size": 16
          },
          "showarrow": false,
          "text": "SOC",
          "x": 0.8555555555555556,
          "xanchor": "center",
          "xref": "paper",
          "y": 0.375,
          "yanchor": "bottom",
          "yref": "paper"
         }
        ],
        "font": {
         "color": "black",
         "family": "Roman, serif",
         "size": 12
        },
        "template": {
         "data": {
          "bar": [
           {
            "error_x": {
             "color": "#2a3f5f"
            },
            "error_y": {
             "color": "#2a3f5f"
            },
            "marker": {
             "line": {
              "color": "#E5ECF6",
              "width": 0.5
             },
             "pattern": {
              "fillmode": "overlay",
              "size": 10,
              "solidity": 0.2
             }
            },
            "type": "bar"
           }
          ],
          "barpolar": [
           {
            "marker": {
             "line": {
              "color": "#E5ECF6",
              "width": 0.5
             },
             "pattern": {
              "fillmode": "overlay",
              "size": 10,
              "solidity": 0.2
             }
            },
            "type": "barpolar"
           }
          ],
          "carpet": [
           {
            "aaxis": {
             "endlinecolor": "#2a3f5f",
             "gridcolor": "white",
             "linecolor": "white",
             "minorgridcolor": "white",
             "startlinecolor": "#2a3f5f"
            },
            "baxis": {
             "endlinecolor": "#2a3f5f",
             "gridcolor": "white",
             "linecolor": "white",
             "minorgridcolor": "white",
             "startlinecolor": "#2a3f5f"
            },
            "type": "carpet"
           }
          ],
          "choropleth": [
           {
            "colorbar": {
             "outlinewidth": 0,
             "ticks": ""
            },
            "type": "choropleth"
           }
          ],
          "contour": [
           {
            "colorbar": {
             "outlinewidth": 0,
             "ticks": ""
            },
            "colorscale": [
             [
              0,
              "#0d0887"
             ],
             [
              0.1111111111111111,
              "#46039f"
             ],
             [
              0.2222222222222222,
              "#7201a8"
             ],
             [
              0.3333333333333333,
              "#9c179e"
             ],
             [
              0.4444444444444444,
              "#bd3786"
             ],
             [
              0.5555555555555556,
              "#d8576b"
             ],
             [
              0.6666666666666666,
              "#ed7953"
             ],
             [
              0.7777777777777778,
              "#fb9f3a"
             ],
             [
              0.8888888888888888,
              "#fdca26"
             ],
             [
              1,
              "#f0f921"
             ]
            ],
            "type": "contour"
           }
          ],
          "contourcarpet": [
           {
            "colorbar": {
             "outlinewidth": 0,
             "ticks": ""
            },
            "type": "contourcarpet"
           }
          ],
          "heatmap": [
           {
            "colorbar": {
             "outlinewidth": 0,
             "ticks": ""
            },
            "colorscale": [
             [
              0,
              "#0d0887"
             ],
             [
              0.1111111111111111,
              "#46039f"
             ],
             [
              0.2222222222222222,
              "#7201a8"
             ],
             [
              0.3333333333333333,
              "#9c179e"
             ],
             [
              0.4444444444444444,
              "#bd3786"
             ],
             [
              0.5555555555555556,
              "#d8576b"
             ],
             [
              0.6666666666666666,
              "#ed7953"
             ],
             [
              0.7777777777777778,
              "#fb9f3a"
             ],
             [
              0.8888888888888888,
              "#fdca26"
             ],
             [
              1,
              "#f0f921"
             ]
            ],
            "type": "heatmap"
           }
          ],
          "heatmapgl": [
           {
            "colorbar": {
             "outlinewidth": 0,
             "ticks": ""
            },
            "colorscale": [
             [
              0,
              "#0d0887"
             ],
             [
              0.1111111111111111,
              "#46039f"
             ],
             [
              0.2222222222222222,
              "#7201a8"
             ],
             [
              0.3333333333333333,
              "#9c179e"
             ],
             [
              0.4444444444444444,
              "#bd3786"
             ],
             [
              0.5555555555555556,
              "#d8576b"
             ],
             [
              0.6666666666666666,
              "#ed7953"
             ],
             [
              0.7777777777777778,
              "#fb9f3a"
             ],
             [
              0.8888888888888888,
              "#fdca26"
             ],
             [
              1,
              "#f0f921"
             ]
            ],
            "type": "heatmapgl"
           }
          ],
          "histogram": [
           {
            "marker": {
             "pattern": {
              "fillmode": "overlay",
              "size": 10,
              "solidity": 0.2
             }
            },
            "type": "histogram"
           }
          ],
          "histogram2d": [
           {
            "colorbar": {
             "outlinewidth": 0,
             "ticks": ""
            },
            "colorscale": [
             [
              0,
              "#0d0887"
             ],
             [
              0.1111111111111111,
              "#46039f"
             ],
             [
              0.2222222222222222,
              "#7201a8"
             ],
             [
              0.3333333333333333,
              "#9c179e"
             ],
             [
              0.4444444444444444,
              "#bd3786"
             ],
             [
              0.5555555555555556,
              "#d8576b"
             ],
             [
              0.6666666666666666,
              "#ed7953"
             ],
             [
              0.7777777777777778,
              "#fb9f3a"
             ],
             [
              0.8888888888888888,
              "#fdca26"
             ],
             [
              1,
              "#f0f921"
             ]
            ],
            "type": "histogram2d"
           }
          ],
          "histogram2dcontour": [
           {
            "colorbar": {
             "outlinewidth": 0,
             "ticks": ""
            },
            "colorscale": [
             [
              0,
              "#0d0887"
             ],
             [
              0.1111111111111111,
              "#46039f"
             ],
             [
              0.2222222222222222,
              "#7201a8"
             ],
             [
              0.3333333333333333,
              "#9c179e"
             ],
             [
              0.4444444444444444,
              "#bd3786"
             ],
             [
              0.5555555555555556,
              "#d8576b"
             ],
             [
              0.6666666666666666,
              "#ed7953"
             ],
             [
              0.7777777777777778,
              "#fb9f3a"
             ],
             [
              0.8888888888888888,
              "#fdca26"
             ],
             [
              1,
              "#f0f921"
             ]
            ],
            "type": "histogram2dcontour"
           }
          ],
          "mesh3d": [
           {
            "colorbar": {
             "outlinewidth": 0,
             "ticks": ""
            },
            "type": "mesh3d"
           }
          ],
          "parcoords": [
           {
            "line": {
             "colorbar": {
              "outlinewidth": 0,
              "ticks": ""
             }
            },
            "type": "parcoords"
           }
          ],
          "pie": [
           {
            "automargin": true,
            "type": "pie"
           }
          ],
          "scatter": [
           {
            "fillpattern": {
             "fillmode": "overlay",
             "size": 10,
             "solidity": 0.2
            },
            "type": "scatter"
           }
          ],
          "scatter3d": [
           {
            "line": {
             "colorbar": {
              "outlinewidth": 0,
              "ticks": ""
             }
            },
            "marker": {
             "colorbar": {
              "outlinewidth": 0,
              "ticks": ""
             }
            },
            "type": "scatter3d"
           }
          ],
          "scattercarpet": [
           {
            "marker": {
             "colorbar": {
              "outlinewidth": 0,
              "ticks": ""
             }
            },
            "type": "scattercarpet"
           }
          ],
          "scattergeo": [
           {
            "marker": {
             "colorbar": {
              "outlinewidth": 0,
              "ticks": ""
             }
            },
            "type": "scattergeo"
           }
          ],
          "scattergl": [
           {
            "marker": {
             "colorbar": {
              "outlinewidth": 0,
              "ticks": ""
             }
            },
            "type": "scattergl"
           }
          ],
          "scattermapbox": [
           {
            "marker": {
             "colorbar": {
              "outlinewidth": 0,
              "ticks": ""
             }
            },
            "type": "scattermapbox"
           }
          ],
          "scatterpolar": [
           {
            "marker": {
             "colorbar": {
              "outlinewidth": 0,
              "ticks": ""
             }
            },
            "type": "scatterpolar"
           }
          ],
          "scatterpolargl": [
           {
            "marker": {
             "colorbar": {
              "outlinewidth": 0,
              "ticks": ""
             }
            },
            "type": "scatterpolargl"
           }
          ],
          "scatterternary": [
           {
            "marker": {
             "colorbar": {
              "outlinewidth": 0,
              "ticks": ""
             }
            },
            "type": "scatterternary"
           }
          ],
          "surface": [
           {
            "colorbar": {
             "outlinewidth": 0,
             "ticks": ""
            },
            "colorscale": [
             [
              0,
              "#0d0887"
             ],
             [
              0.1111111111111111,
              "#46039f"
             ],
             [
              0.2222222222222222,
              "#7201a8"
             ],
             [
              0.3333333333333333,
              "#9c179e"
             ],
             [
              0.4444444444444444,
              "#bd3786"
             ],
             [
              0.5555555555555556,
              "#d8576b"
             ],
             [
              0.6666666666666666,
              "#ed7953"
             ],
             [
              0.7777777777777778,
              "#fb9f3a"
             ],
             [
              0.8888888888888888,
              "#fdca26"
             ],
             [
              1,
              "#f0f921"
             ]
            ],
            "type": "surface"
           }
          ],
          "table": [
           {
            "cells": {
             "fill": {
              "color": "#EBF0F8"
             },
             "line": {
              "color": "white"
             }
            },
            "header": {
             "fill": {
              "color": "#C8D4E3"
             },
             "line": {
              "color": "white"
             }
            },
            "type": "table"
           }
          ]
         },
         "layout": {
          "annotationdefaults": {
           "arrowcolor": "#2a3f5f",
           "arrowhead": 0,
           "arrowwidth": 1
          },
          "autotypenumbers": "strict",
          "coloraxis": {
           "colorbar": {
            "outlinewidth": 0,
            "ticks": ""
           }
          },
          "colorscale": {
           "diverging": [
            [
             0,
             "#8e0152"
            ],
            [
             0.1,
             "#c51b7d"
            ],
            [
             0.2,
             "#de77ae"
            ],
            [
             0.3,
             "#f1b6da"
            ],
            [
             0.4,
             "#fde0ef"
            ],
            [
             0.5,
             "#f7f7f7"
            ],
            [
             0.6,
             "#e6f5d0"
            ],
            [
             0.7,
             "#b8e186"
            ],
            [
             0.8,
             "#7fbc41"
            ],
            [
             0.9,
             "#4d9221"
            ],
            [
             1,
             "#276419"
            ]
           ],
           "sequential": [
            [
             0,
             "#0d0887"
            ],
            [
             0.1111111111111111,
             "#46039f"
            ],
            [
             0.2222222222222222,
             "#7201a8"
            ],
            [
             0.3333333333333333,
             "#9c179e"
            ],
            [
             0.4444444444444444,
             "#bd3786"
            ],
            [
             0.5555555555555556,
             "#d8576b"
            ],
            [
             0.6666666666666666,
             "#ed7953"
            ],
            [
             0.7777777777777778,
             "#fb9f3a"
            ],
            [
             0.8888888888888888,
             "#fdca26"
            ],
            [
             1,
             "#f0f921"
            ]
           ],
           "sequentialminus": [
            [
             0,
             "#0d0887"
            ],
            [
             0.1111111111111111,
             "#46039f"
            ],
            [
             0.2222222222222222,
             "#7201a8"
            ],
            [
             0.3333333333333333,
             "#9c179e"
            ],
            [
             0.4444444444444444,
             "#bd3786"
            ],
            [
             0.5555555555555556,
             "#d8576b"
            ],
            [
             0.6666666666666666,
             "#ed7953"
            ],
            [
             0.7777777777777778,
             "#fb9f3a"
            ],
            [
             0.8888888888888888,
             "#fdca26"
            ],
            [
             1,
             "#f0f921"
            ]
           ]
          },
          "colorway": [
           "#636efa",
           "#EF553B",
           "#00cc96",
           "#ab63fa",
           "#FFA15A",
           "#19d3f3",
           "#FF6692",
           "#B6E880",
           "#FF97FF",
           "#FECB52"
          ],
          "font": {
           "color": "#2a3f5f"
          },
          "geo": {
           "bgcolor": "white",
           "lakecolor": "white",
           "landcolor": "#E5ECF6",
           "showlakes": true,
           "showland": true,
           "subunitcolor": "white"
          },
          "hoverlabel": {
           "align": "left"
          },
          "hovermode": "closest",
          "mapbox": {
           "style": "light"
          },
          "paper_bgcolor": "white",
          "plot_bgcolor": "#E5ECF6",
          "polar": {
           "angularaxis": {
            "gridcolor": "white",
            "linecolor": "white",
            "ticks": ""
           },
           "bgcolor": "#E5ECF6",
           "radialaxis": {
            "gridcolor": "white",
            "linecolor": "white",
            "ticks": ""
           }
          },
          "scene": {
           "xaxis": {
            "backgroundcolor": "#E5ECF6",
            "gridcolor": "white",
            "gridwidth": 2,
            "linecolor": "white",
            "showbackground": true,
            "ticks": "",
            "zerolinecolor": "white"
           },
           "yaxis": {
            "backgroundcolor": "#E5ECF6",
            "gridcolor": "white",
            "gridwidth": 2,
            "linecolor": "white",
            "showbackground": true,
            "ticks": "",
            "zerolinecolor": "white"
           },
           "zaxis": {
            "backgroundcolor": "#E5ECF6",
            "gridcolor": "white",
            "gridwidth": 2,
            "linecolor": "white",
            "showbackground": true,
            "ticks": "",
            "zerolinecolor": "white"
           }
          },
          "shapedefaults": {
           "line": {
            "color": "#2a3f5f"
           }
          },
          "ternary": {
           "aaxis": {
            "gridcolor": "white",
            "linecolor": "white",
            "ticks": ""
           },
           "baxis": {
            "gridcolor": "white",
            "linecolor": "white",
            "ticks": ""
           },
           "bgcolor": "#E5ECF6",
           "caxis": {
            "gridcolor": "white",
            "linecolor": "white",
            "ticks": ""
           }
          },
          "title": {
           "x": 0.05
          },
          "xaxis": {
           "automargin": true,
           "gridcolor": "white",
           "linecolor": "white",
           "ticks": "",
           "title": {
            "standoff": 15
           },
           "zerolinecolor": "white",
           "zerolinewidth": 2
          },
          "yaxis": {
           "automargin": true,
           "gridcolor": "white",
           "linecolor": "white",
           "ticks": "",
           "title": {
            "standoff": 15
           },
           "zerolinecolor": "white",
           "zerolinewidth": 2
          }
         }
        },
        "xaxis": {
         "anchor": "y",
         "domain": [
          0,
          0.2888888888888889
         ],
         "tickvals": []
        },
        "xaxis2": {
         "anchor": "y2",
         "domain": [
          0.35555555555555557,
          0.6444444444444445
         ],
         "tickvals": []
        },
        "xaxis3": {
         "anchor": "y3",
         "domain": [
          0.7111111111111111,
          1
         ],
         "tickvals": []
        },
        "xaxis4": {
         "anchor": "y4",
         "domain": [
          0,
          0.2888888888888889
         ]
        },
        "xaxis5": {
         "anchor": "y5",
         "domain": [
          0.35555555555555557,
          0.6444444444444445
         ]
        },
        "xaxis6": {
         "anchor": "y6",
         "domain": [
          0.7111111111111111,
          1
         ]
        },
        "yaxis": {
         "anchor": "x",
         "autorange": "reversed",
         "domain": [
          0.625,
          1
         ],
         "title": {
          "text": "Depth, cm"
         }
        },
        "yaxis2": {
         "anchor": "x2",
         "autorange": "reversed",
         "domain": [
          0.625,
          1
         ]
        },
        "yaxis3": {
         "anchor": "x3",
         "autorange": "reversed",
         "domain": [
          0.625,
          1
         ]
        },
        "yaxis4": {
         "anchor": "x4",
         "autorange": "reversed",
         "domain": [
          0,
          0.375
         ],
         "title": {
          "text": "Depth, cm"
         }
        },
        "yaxis5": {
         "anchor": "x5",
         "autorange": "reversed",
         "domain": [
          0,
          0.375
         ]
        },
        "yaxis6": {
         "anchor": "x6",
         "autorange": "reversed",
         "domain": [
          0,
          0.375
         ]
        }
       }
      }
     },
     "metadata": {},
     "output_type": "display_data"
    }
   ],
   "source": [
    "fig = make_subplots(rows=2, cols=3,\n",
    "                    subplot_titles=(\"Bulk Density\",\"Clay\", \\\n",
    "                                    \"Sand\", \"pH\", \"C:N ratio\", \"SOC\"))\n",
    "fig.add_trace(go.Heatmap(\n",
    "        z=new_df_BD,\n",
    "        x=new_df_BD.columns,\n",
    "        y=new_df_BD.index,\n",
    "        showscale=False,\n",
    "        colorscale=\"Sunset\"),\n",
    "        row=1,col=1)\n",
    "fig.add_trace(go.Heatmap(\n",
    "        z=new_df_Clay,\n",
    "        x=new_df_Clay.columns,\n",
    "        y=new_df_Clay.index,\n",
    "        showscale=False,\n",
    "        colorscale=\"Sunset\"),\n",
    "        row=1,col=2)\n",
    "fig.add_trace(go.Heatmap(\n",
    "        z=new_df_Sand,\n",
    "        x=new_df_Sand.columns,\n",
    "        y=new_df_Sand.index,\n",
    "        showscale=False,\n",
    "        colorscale=\"Sunset\"),\n",
    "        row=1,col=3)\n",
    "fig.add_trace(go.Heatmap(\n",
    "        z=new_df_pH,\n",
    "        x=new_df_pH.columns,\n",
    "        y=new_df_pH.index,\n",
    "        showscale=False,\n",
    "        colorscale=\"Sunset\"),\n",
    "        row=2,col=1)\n",
    "fig.add_trace(go.Heatmap(\n",
    "        z=new_df_CN,\n",
    "        x=new_df_CN.columns,\n",
    "        y=new_df_CN.index,\n",
    "        showscale=False,\n",
    "        colorscale=\"Sunset\"),\n",
    "               row=2,col=2)\n",
    "fig.add_trace(go.Heatmap(\n",
    "        z=new_df_SOC,\n",
    "        x=new_df_SOC.columns,\n",
    "        y=new_df_SOC.index,\n",
    "        autocolorscale=False,\n",
    "        colorscale=\"Sunset\"),\n",
    "        row=2,col=3)\n",
    "fig.update_xaxes(tickvals=[], row=1)\n",
    "fig.update_yaxes(autorange='reversed')\n",
    "fig.update_yaxes(title='Depth, cm', row=1,col=1)\n",
    "fig.update_yaxes(title='Depth, cm', row=2,col=1)\n",
    "fig.update_layout( font=dict(\n",
    "        family=\"Roman, serif\",\n",
    "        size=12,\n",
    "        color=\"black\"))\n",
    "\n",
    "fig.show()\n",
    "# fig.write_image('Heatmap_horizonts_Sunset.svg')"
   ]
  },
  {
   "cell_type": "code",
   "execution_count": 28,
   "metadata": {},
   "outputs": [
    {
     "ename": "TypeError",
     "evalue": "unhashable type: 'Colormap'",
     "output_type": "error",
     "traceback": [
      "\u001b[0;31m---------------------------------------------------------------------------\u001b[0m",
      "\u001b[0;31mTypeError\u001b[0m                                 Traceback (most recent call last)",
      "Cell \u001b[0;32mIn[28], line 37\u001b[0m\n\u001b[1;32m     32\u001b[0m df \u001b[38;5;241m=\u001b[39m data_frames[idx] \u001b[38;5;66;03m# Получаем соответствующий DataFrame\u001b[39;00m\n\u001b[1;32m     34\u001b[0m \u001b[38;5;66;03m# Отображаем данные как тепловую карту с помощью imshow\u001b[39;00m\n\u001b[1;32m     35\u001b[0m \u001b[38;5;66;03m# aspect='auto' позволяет прямоугольникам растягиваться\u001b[39;00m\n\u001b[1;32m     36\u001b[0m \u001b[38;5;66;03m# interpolation='nearest' показывает четкие пиксели без сглаживания\u001b[39;00m\n\u001b[0;32m---> 37\u001b[0m im \u001b[38;5;241m=\u001b[39m \u001b[43max\u001b[49m\u001b[38;5;241;43m.\u001b[39;49m\u001b[43mimshow\u001b[49m\u001b[43m(\u001b[49m\u001b[43mdf\u001b[49m\u001b[43m,\u001b[49m\u001b[43m \u001b[49m\u001b[43mcmap\u001b[49m\u001b[38;5;241;43m=\u001b[39;49m\u001b[43mcm\u001b[49m\u001b[43m,\u001b[49m\u001b[43m \u001b[49m\u001b[43maspect\u001b[49m\u001b[38;5;241;43m=\u001b[39;49m\u001b[38;5;124;43m'\u001b[39;49m\u001b[38;5;124;43mauto\u001b[39;49m\u001b[38;5;124;43m'\u001b[39;49m\u001b[43m,\u001b[49m\u001b[43m \u001b[49m\u001b[43minterpolation\u001b[49m\u001b[38;5;241;43m=\u001b[39;49m\u001b[38;5;124;43m'\u001b[39;49m\u001b[38;5;124;43mnearest\u001b[39;49m\u001b[38;5;124;43m'\u001b[39;49m\u001b[43m)\u001b[49m\n\u001b[1;32m     38\u001b[0m images\u001b[38;5;241m.\u001b[39mappend(im) \u001b[38;5;66;03m# Сохраняем для colorbar\u001b[39;00m\n\u001b[1;32m     40\u001b[0m ax\u001b[38;5;241m.\u001b[39mset_title(titles[idx]) \u001b[38;5;66;03m# Устанавливаем заголовок\u001b[39;00m\n",
      "File \u001b[0;32m~/geo/lib/python3.12/site-packages/matplotlib/__init__.py:1465\u001b[0m, in \u001b[0;36m_preprocess_data.<locals>.inner\u001b[0;34m(ax, data, *args, **kwargs)\u001b[0m\n\u001b[1;32m   1462\u001b[0m \u001b[38;5;129m@functools\u001b[39m\u001b[38;5;241m.\u001b[39mwraps(func)\n\u001b[1;32m   1463\u001b[0m \u001b[38;5;28;01mdef\u001b[39;00m \u001b[38;5;21minner\u001b[39m(ax, \u001b[38;5;241m*\u001b[39margs, data\u001b[38;5;241m=\u001b[39m\u001b[38;5;28;01mNone\u001b[39;00m, \u001b[38;5;241m*\u001b[39m\u001b[38;5;241m*\u001b[39mkwargs):\n\u001b[1;32m   1464\u001b[0m     \u001b[38;5;28;01mif\u001b[39;00m data \u001b[38;5;129;01mis\u001b[39;00m \u001b[38;5;28;01mNone\u001b[39;00m:\n\u001b[0;32m-> 1465\u001b[0m         \u001b[38;5;28;01mreturn\u001b[39;00m \u001b[43mfunc\u001b[49m\u001b[43m(\u001b[49m\u001b[43max\u001b[49m\u001b[43m,\u001b[49m\u001b[43m \u001b[49m\u001b[38;5;241;43m*\u001b[39;49m\u001b[38;5;28;43mmap\u001b[39;49m\u001b[43m(\u001b[49m\u001b[43msanitize_sequence\u001b[49m\u001b[43m,\u001b[49m\u001b[43m \u001b[49m\u001b[43margs\u001b[49m\u001b[43m)\u001b[49m\u001b[43m,\u001b[49m\u001b[43m \u001b[49m\u001b[38;5;241;43m*\u001b[39;49m\u001b[38;5;241;43m*\u001b[39;49m\u001b[43mkwargs\u001b[49m\u001b[43m)\u001b[49m\n\u001b[1;32m   1467\u001b[0m     bound \u001b[38;5;241m=\u001b[39m new_sig\u001b[38;5;241m.\u001b[39mbind(ax, \u001b[38;5;241m*\u001b[39margs, \u001b[38;5;241m*\u001b[39m\u001b[38;5;241m*\u001b[39mkwargs)\n\u001b[1;32m   1468\u001b[0m     auto_label \u001b[38;5;241m=\u001b[39m (bound\u001b[38;5;241m.\u001b[39marguments\u001b[38;5;241m.\u001b[39mget(label_namer)\n\u001b[1;32m   1469\u001b[0m                   \u001b[38;5;129;01mor\u001b[39;00m bound\u001b[38;5;241m.\u001b[39mkwargs\u001b[38;5;241m.\u001b[39mget(label_namer))\n",
      "File \u001b[0;32m~/geo/lib/python3.12/site-packages/matplotlib/axes/_axes.py:5742\u001b[0m, in \u001b[0;36mAxes.imshow\u001b[0;34m(self, X, cmap, norm, aspect, interpolation, alpha, vmin, vmax, origin, extent, interpolation_stage, filternorm, filterrad, resample, url, **kwargs)\u001b[0m\n\u001b[1;32m   5537\u001b[0m \u001b[38;5;129m@_preprocess_data\u001b[39m()\n\u001b[1;32m   5538\u001b[0m \u001b[38;5;129m@_docstring\u001b[39m\u001b[38;5;241m.\u001b[39minterpd\n\u001b[1;32m   5539\u001b[0m \u001b[38;5;28;01mdef\u001b[39;00m \u001b[38;5;21mimshow\u001b[39m(\u001b[38;5;28mself\u001b[39m, X, cmap\u001b[38;5;241m=\u001b[39m\u001b[38;5;28;01mNone\u001b[39;00m, norm\u001b[38;5;241m=\u001b[39m\u001b[38;5;28;01mNone\u001b[39;00m, \u001b[38;5;241m*\u001b[39m, aspect\u001b[38;5;241m=\u001b[39m\u001b[38;5;28;01mNone\u001b[39;00m,\n\u001b[0;32m   (...)\u001b[0m\n\u001b[1;32m   5542\u001b[0m            interpolation_stage\u001b[38;5;241m=\u001b[39m\u001b[38;5;28;01mNone\u001b[39;00m, filternorm\u001b[38;5;241m=\u001b[39m\u001b[38;5;28;01mTrue\u001b[39;00m, filterrad\u001b[38;5;241m=\u001b[39m\u001b[38;5;241m4.0\u001b[39m,\n\u001b[1;32m   5543\u001b[0m            resample\u001b[38;5;241m=\u001b[39m\u001b[38;5;28;01mNone\u001b[39;00m, url\u001b[38;5;241m=\u001b[39m\u001b[38;5;28;01mNone\u001b[39;00m, \u001b[38;5;241m*\u001b[39m\u001b[38;5;241m*\u001b[39mkwargs):\n\u001b[1;32m   5544\u001b[0m \u001b[38;5;250m    \u001b[39m\u001b[38;5;124;03m\"\"\"\u001b[39;00m\n\u001b[1;32m   5545\u001b[0m \u001b[38;5;124;03m    Display data as an image, i.e., on a 2D regular raster.\u001b[39;00m\n\u001b[1;32m   5546\u001b[0m \n\u001b[0;32m   (...)\u001b[0m\n\u001b[1;32m   5740\u001b[0m \u001b[38;5;124;03m    (unassociated) alpha representation.\u001b[39;00m\n\u001b[1;32m   5741\u001b[0m \u001b[38;5;124;03m    \"\"\"\u001b[39;00m\n\u001b[0;32m-> 5742\u001b[0m     im \u001b[38;5;241m=\u001b[39m \u001b[43mmimage\u001b[49m\u001b[38;5;241;43m.\u001b[39;49m\u001b[43mAxesImage\u001b[49m\u001b[43m(\u001b[49m\u001b[38;5;28;43mself\u001b[39;49m\u001b[43m,\u001b[49m\u001b[43m \u001b[49m\u001b[43mcmap\u001b[49m\u001b[38;5;241;43m=\u001b[39;49m\u001b[43mcmap\u001b[49m\u001b[43m,\u001b[49m\u001b[43m \u001b[49m\u001b[43mnorm\u001b[49m\u001b[38;5;241;43m=\u001b[39;49m\u001b[43mnorm\u001b[49m\u001b[43m,\u001b[49m\n\u001b[1;32m   5743\u001b[0m \u001b[43m                          \u001b[49m\u001b[43minterpolation\u001b[49m\u001b[38;5;241;43m=\u001b[39;49m\u001b[43minterpolation\u001b[49m\u001b[43m,\u001b[49m\u001b[43m \u001b[49m\u001b[43morigin\u001b[49m\u001b[38;5;241;43m=\u001b[39;49m\u001b[43morigin\u001b[49m\u001b[43m,\u001b[49m\n\u001b[1;32m   5744\u001b[0m \u001b[43m                          \u001b[49m\u001b[43mextent\u001b[49m\u001b[38;5;241;43m=\u001b[39;49m\u001b[43mextent\u001b[49m\u001b[43m,\u001b[49m\u001b[43m \u001b[49m\u001b[43mfilternorm\u001b[49m\u001b[38;5;241;43m=\u001b[39;49m\u001b[43mfilternorm\u001b[49m\u001b[43m,\u001b[49m\n\u001b[1;32m   5745\u001b[0m \u001b[43m                          \u001b[49m\u001b[43mfilterrad\u001b[49m\u001b[38;5;241;43m=\u001b[39;49m\u001b[43mfilterrad\u001b[49m\u001b[43m,\u001b[49m\u001b[43m \u001b[49m\u001b[43mresample\u001b[49m\u001b[38;5;241;43m=\u001b[39;49m\u001b[43mresample\u001b[49m\u001b[43m,\u001b[49m\n\u001b[1;32m   5746\u001b[0m \u001b[43m                          \u001b[49m\u001b[43minterpolation_stage\u001b[49m\u001b[38;5;241;43m=\u001b[39;49m\u001b[43minterpolation_stage\u001b[49m\u001b[43m,\u001b[49m\n\u001b[1;32m   5747\u001b[0m \u001b[43m                          \u001b[49m\u001b[38;5;241;43m*\u001b[39;49m\u001b[38;5;241;43m*\u001b[39;49m\u001b[43mkwargs\u001b[49m\u001b[43m)\u001b[49m\n\u001b[1;32m   5749\u001b[0m     \u001b[38;5;28;01mif\u001b[39;00m aspect \u001b[38;5;129;01mis\u001b[39;00m \u001b[38;5;28;01mNone\u001b[39;00m \u001b[38;5;129;01mand\u001b[39;00m \u001b[38;5;129;01mnot\u001b[39;00m (\n\u001b[1;32m   5750\u001b[0m             im\u001b[38;5;241m.\u001b[39mis_transform_set()\n\u001b[1;32m   5751\u001b[0m             \u001b[38;5;129;01mand\u001b[39;00m \u001b[38;5;129;01mnot\u001b[39;00m im\u001b[38;5;241m.\u001b[39mget_transform()\u001b[38;5;241m.\u001b[39mcontains_branch(\u001b[38;5;28mself\u001b[39m\u001b[38;5;241m.\u001b[39mtransData)):\n\u001b[1;32m   5752\u001b[0m         aspect \u001b[38;5;241m=\u001b[39m mpl\u001b[38;5;241m.\u001b[39mrcParams[\u001b[38;5;124m'\u001b[39m\u001b[38;5;124mimage.aspect\u001b[39m\u001b[38;5;124m'\u001b[39m]\n",
      "File \u001b[0;32m~/geo/lib/python3.12/site-packages/matplotlib/image.py:912\u001b[0m, in \u001b[0;36mAxesImage.__init__\u001b[0;34m(self, ax, cmap, norm, interpolation, origin, extent, filternorm, filterrad, resample, interpolation_stage, **kwargs)\u001b[0m\n\u001b[1;32m    896\u001b[0m \u001b[38;5;28;01mdef\u001b[39;00m \u001b[38;5;21m__init__\u001b[39m(\u001b[38;5;28mself\u001b[39m, ax,\n\u001b[1;32m    897\u001b[0m              \u001b[38;5;241m*\u001b[39m,\n\u001b[1;32m    898\u001b[0m              cmap\u001b[38;5;241m=\u001b[39m\u001b[38;5;28;01mNone\u001b[39;00m,\n\u001b[0;32m   (...)\u001b[0m\n\u001b[1;32m    907\u001b[0m              \u001b[38;5;241m*\u001b[39m\u001b[38;5;241m*\u001b[39mkwargs\n\u001b[1;32m    908\u001b[0m              ):\n\u001b[1;32m    910\u001b[0m     \u001b[38;5;28mself\u001b[39m\u001b[38;5;241m.\u001b[39m_extent \u001b[38;5;241m=\u001b[39m extent\n\u001b[0;32m--> 912\u001b[0m     \u001b[38;5;28;43msuper\u001b[39;49m\u001b[43m(\u001b[49m\u001b[43m)\u001b[49m\u001b[38;5;241;43m.\u001b[39;49m\u001b[38;5;21;43m__init__\u001b[39;49m\u001b[43m(\u001b[49m\n\u001b[1;32m    913\u001b[0m \u001b[43m        \u001b[49m\u001b[43max\u001b[49m\u001b[43m,\u001b[49m\n\u001b[1;32m    914\u001b[0m \u001b[43m        \u001b[49m\u001b[43mcmap\u001b[49m\u001b[38;5;241;43m=\u001b[39;49m\u001b[43mcmap\u001b[49m\u001b[43m,\u001b[49m\n\u001b[1;32m    915\u001b[0m \u001b[43m        \u001b[49m\u001b[43mnorm\u001b[49m\u001b[38;5;241;43m=\u001b[39;49m\u001b[43mnorm\u001b[49m\u001b[43m,\u001b[49m\n\u001b[1;32m    916\u001b[0m \u001b[43m        \u001b[49m\u001b[43minterpolation\u001b[49m\u001b[38;5;241;43m=\u001b[39;49m\u001b[43minterpolation\u001b[49m\u001b[43m,\u001b[49m\n\u001b[1;32m    917\u001b[0m \u001b[43m        \u001b[49m\u001b[43morigin\u001b[49m\u001b[38;5;241;43m=\u001b[39;49m\u001b[43morigin\u001b[49m\u001b[43m,\u001b[49m\n\u001b[1;32m    918\u001b[0m \u001b[43m        \u001b[49m\u001b[43mfilternorm\u001b[49m\u001b[38;5;241;43m=\u001b[39;49m\u001b[43mfilternorm\u001b[49m\u001b[43m,\u001b[49m\n\u001b[1;32m    919\u001b[0m \u001b[43m        \u001b[49m\u001b[43mfilterrad\u001b[49m\u001b[38;5;241;43m=\u001b[39;49m\u001b[43mfilterrad\u001b[49m\u001b[43m,\u001b[49m\n\u001b[1;32m    920\u001b[0m \u001b[43m        \u001b[49m\u001b[43mresample\u001b[49m\u001b[38;5;241;43m=\u001b[39;49m\u001b[43mresample\u001b[49m\u001b[43m,\u001b[49m\n\u001b[1;32m    921\u001b[0m \u001b[43m        \u001b[49m\u001b[43minterpolation_stage\u001b[49m\u001b[38;5;241;43m=\u001b[39;49m\u001b[43minterpolation_stage\u001b[49m\u001b[43m,\u001b[49m\n\u001b[1;32m    922\u001b[0m \u001b[43m        \u001b[49m\u001b[38;5;241;43m*\u001b[39;49m\u001b[38;5;241;43m*\u001b[39;49m\u001b[43mkwargs\u001b[49m\n\u001b[1;32m    923\u001b[0m \u001b[43m    \u001b[49m\u001b[43m)\u001b[49m\n",
      "File \u001b[0;32m~/geo/lib/python3.12/site-packages/matplotlib/image.py:261\u001b[0m, in \u001b[0;36m_ImageBase.__init__\u001b[0;34m(self, ax, cmap, norm, interpolation, origin, filternorm, filterrad, resample, interpolation_stage, **kwargs)\u001b[0m\n\u001b[1;32m    248\u001b[0m \u001b[38;5;28;01mdef\u001b[39;00m \u001b[38;5;21m__init__\u001b[39m(\u001b[38;5;28mself\u001b[39m, ax,\n\u001b[1;32m    249\u001b[0m              cmap\u001b[38;5;241m=\u001b[39m\u001b[38;5;28;01mNone\u001b[39;00m,\n\u001b[1;32m    250\u001b[0m              norm\u001b[38;5;241m=\u001b[39m\u001b[38;5;28;01mNone\u001b[39;00m,\n\u001b[0;32m   (...)\u001b[0m\n\u001b[1;32m    258\u001b[0m              \u001b[38;5;241m*\u001b[39m\u001b[38;5;241m*\u001b[39mkwargs\n\u001b[1;32m    259\u001b[0m              ):\n\u001b[1;32m    260\u001b[0m     martist\u001b[38;5;241m.\u001b[39mArtist\u001b[38;5;241m.\u001b[39m\u001b[38;5;21m__init__\u001b[39m(\u001b[38;5;28mself\u001b[39m)\n\u001b[0;32m--> 261\u001b[0m     \u001b[43mcm\u001b[49m\u001b[38;5;241;43m.\u001b[39;49m\u001b[43mScalarMappable\u001b[49m\u001b[38;5;241;43m.\u001b[39;49m\u001b[38;5;21;43m__init__\u001b[39;49m\u001b[43m(\u001b[49m\u001b[38;5;28;43mself\u001b[39;49m\u001b[43m,\u001b[49m\u001b[43m \u001b[49m\u001b[43mnorm\u001b[49m\u001b[43m,\u001b[49m\u001b[43m \u001b[49m\u001b[43mcmap\u001b[49m\u001b[43m)\u001b[49m\n\u001b[1;32m    262\u001b[0m     \u001b[38;5;28;01mif\u001b[39;00m origin \u001b[38;5;129;01mis\u001b[39;00m \u001b[38;5;28;01mNone\u001b[39;00m:\n\u001b[1;32m    263\u001b[0m         origin \u001b[38;5;241m=\u001b[39m mpl\u001b[38;5;241m.\u001b[39mrcParams[\u001b[38;5;124m'\u001b[39m\u001b[38;5;124mimage.origin\u001b[39m\u001b[38;5;124m'\u001b[39m]\n",
      "File \u001b[0;32m~/geo/lib/python3.12/site-packages/matplotlib/cm.py:416\u001b[0m, in \u001b[0;36mScalarMappable.__init__\u001b[0;34m(self, norm, cmap)\u001b[0m\n\u001b[1;32m    414\u001b[0m \u001b[38;5;28mself\u001b[39m\u001b[38;5;241m.\u001b[39mset_norm(norm)  \u001b[38;5;66;03m# The Normalize instance of this ScalarMappable.\u001b[39;00m\n\u001b[1;32m    415\u001b[0m \u001b[38;5;28mself\u001b[39m\u001b[38;5;241m.\u001b[39mcmap \u001b[38;5;241m=\u001b[39m \u001b[38;5;28;01mNone\u001b[39;00m  \u001b[38;5;66;03m# So that the setter knows we're initializing.\u001b[39;00m\n\u001b[0;32m--> 416\u001b[0m \u001b[38;5;28;43mself\u001b[39;49m\u001b[38;5;241;43m.\u001b[39;49m\u001b[43mset_cmap\u001b[49m\u001b[43m(\u001b[49m\u001b[43mcmap\u001b[49m\u001b[43m)\u001b[49m  \u001b[38;5;66;03m# The Colormap instance of this ScalarMappable.\u001b[39;00m\n\u001b[1;32m    417\u001b[0m \u001b[38;5;66;03m#: The last colorbar associated with this ScalarMappable. May be None.\u001b[39;00m\n\u001b[1;32m    418\u001b[0m \u001b[38;5;28mself\u001b[39m\u001b[38;5;241m.\u001b[39mcolorbar \u001b[38;5;241m=\u001b[39m \u001b[38;5;28;01mNone\u001b[39;00m\n",
      "File \u001b[0;32m~/geo/lib/python3.12/site-packages/matplotlib/cm.py:605\u001b[0m, in \u001b[0;36mScalarMappable.set_cmap\u001b[0;34m(self, cmap)\u001b[0m\n\u001b[1;32m    596\u001b[0m \u001b[38;5;250m\u001b[39m\u001b[38;5;124;03m\"\"\"\u001b[39;00m\n\u001b[1;32m    597\u001b[0m \u001b[38;5;124;03mSet the colormap for luminance data.\u001b[39;00m\n\u001b[1;32m    598\u001b[0m \n\u001b[0;32m   (...)\u001b[0m\n\u001b[1;32m    601\u001b[0m \u001b[38;5;124;03mcmap : `.Colormap` or str or None\u001b[39;00m\n\u001b[1;32m    602\u001b[0m \u001b[38;5;124;03m\"\"\"\u001b[39;00m\n\u001b[1;32m    603\u001b[0m in_init \u001b[38;5;241m=\u001b[39m \u001b[38;5;28mself\u001b[39m\u001b[38;5;241m.\u001b[39mcmap \u001b[38;5;129;01mis\u001b[39;00m \u001b[38;5;28;01mNone\u001b[39;00m\n\u001b[0;32m--> 605\u001b[0m \u001b[38;5;28mself\u001b[39m\u001b[38;5;241m.\u001b[39mcmap \u001b[38;5;241m=\u001b[39m \u001b[43m_ensure_cmap\u001b[49m\u001b[43m(\u001b[49m\u001b[43mcmap\u001b[49m\u001b[43m)\u001b[49m\n\u001b[1;32m    606\u001b[0m \u001b[38;5;28;01mif\u001b[39;00m \u001b[38;5;129;01mnot\u001b[39;00m in_init:\n\u001b[1;32m    607\u001b[0m     \u001b[38;5;28mself\u001b[39m\u001b[38;5;241m.\u001b[39mchanged()\n",
      "File \u001b[0;32m~/geo/lib/python3.12/site-packages/matplotlib/cm.py:743\u001b[0m, in \u001b[0;36m_ensure_cmap\u001b[0;34m(cmap)\u001b[0m\n\u001b[1;32m    740\u001b[0m cmap_name \u001b[38;5;241m=\u001b[39m cmap \u001b[38;5;28;01mif\u001b[39;00m cmap \u001b[38;5;129;01mis\u001b[39;00m \u001b[38;5;129;01mnot\u001b[39;00m \u001b[38;5;28;01mNone\u001b[39;00m \u001b[38;5;28;01melse\u001b[39;00m mpl\u001b[38;5;241m.\u001b[39mrcParams[\u001b[38;5;124m\"\u001b[39m\u001b[38;5;124mimage.cmap\u001b[39m\u001b[38;5;124m\"\u001b[39m]\n\u001b[1;32m    741\u001b[0m \u001b[38;5;66;03m# use check_in_list to ensure type stability of the exception raised by\u001b[39;00m\n\u001b[1;32m    742\u001b[0m \u001b[38;5;66;03m# the internal usage of this (ValueError vs KeyError)\u001b[39;00m\n\u001b[0;32m--> 743\u001b[0m \u001b[38;5;28;01mif\u001b[39;00m \u001b[43mcmap_name\u001b[49m\u001b[43m \u001b[49m\u001b[38;5;129;43;01mnot\u001b[39;49;00m\u001b[43m \u001b[49m\u001b[38;5;129;43;01min\u001b[39;49;00m\u001b[43m \u001b[49m\u001b[43m_colormaps\u001b[49m:\n\u001b[1;32m    744\u001b[0m     _api\u001b[38;5;241m.\u001b[39mcheck_in_list(\u001b[38;5;28msorted\u001b[39m(_colormaps), cmap\u001b[38;5;241m=\u001b[39mcmap_name)\n\u001b[1;32m    745\u001b[0m \u001b[38;5;28;01mreturn\u001b[39;00m mpl\u001b[38;5;241m.\u001b[39mcolormaps[cmap_name]\n",
      "File \u001b[0;32m<frozen _collections_abc>:813\u001b[0m, in \u001b[0;36m__contains__\u001b[0;34m(self, key)\u001b[0m\n",
      "File \u001b[0;32m~/geo/lib/python3.12/site-packages/matplotlib/cm.py:91\u001b[0m, in \u001b[0;36mColormapRegistry.__getitem__\u001b[0;34m(self, item)\u001b[0m\n\u001b[1;32m     89\u001b[0m \u001b[38;5;28;01mdef\u001b[39;00m \u001b[38;5;21m__getitem__\u001b[39m(\u001b[38;5;28mself\u001b[39m, item):\n\u001b[1;32m     90\u001b[0m     \u001b[38;5;28;01mtry\u001b[39;00m:\n\u001b[0;32m---> 91\u001b[0m         \u001b[38;5;28;01mreturn\u001b[39;00m \u001b[38;5;28;43mself\u001b[39;49m\u001b[38;5;241;43m.\u001b[39;49m\u001b[43m_cmaps\u001b[49m\u001b[43m[\u001b[49m\u001b[43mitem\u001b[49m\u001b[43m]\u001b[49m\u001b[38;5;241m.\u001b[39mcopy()\n\u001b[1;32m     92\u001b[0m     \u001b[38;5;28;01mexcept\u001b[39;00m \u001b[38;5;167;01mKeyError\u001b[39;00m:\n\u001b[1;32m     93\u001b[0m         \u001b[38;5;28;01mraise\u001b[39;00m \u001b[38;5;167;01mKeyError\u001b[39;00m(\u001b[38;5;124mf\u001b[39m\u001b[38;5;124m\"\u001b[39m\u001b[38;5;132;01m{\u001b[39;00mitem\u001b[38;5;132;01m!r}\u001b[39;00m\u001b[38;5;124m is not a known colormap name\u001b[39m\u001b[38;5;124m\"\u001b[39m) \u001b[38;5;28;01mfrom\u001b[39;00m \u001b[38;5;28;01mNone\u001b[39;00m\n",
      "\u001b[0;31mTypeError\u001b[0m: unhashable type: 'Colormap'"
     ]
    },
    {
     "data": {
      "image/png": "[encoded data removed]",
      "text/plain": [
       "<Figure size 1200x700 with 6 Axes>"
      ]
     },
     "metadata": {},
     "output_type": "display_data"
    }
   ],
   "source": [
    "# Убедитесь, что matplotlib импортирован\n",
    "import matplotlib.pyplot as plt\n",
    "import numpy as np\n",
    "\n",
    "from cmap import Colormap\n",
    "\n",
    "cm = Colormap('tol:sunset')  # case insensitive\n",
    "# Предполагается, что pandas уже импортирован как pd и данные загружены\n",
    "\n",
    "# --- Данные из предыдущих ячеек ---\n",
    "# new_df_BD, new_df_Clay, new_df_Sand, new_df_pH, new_df_CN, new_df_SOC\n",
    "# ---\n",
    "\n",
    "# Список DataFrame'ов и заголовков для графиков\n",
    "data_frames = [new_df_BD, new_df_Clay, new_df_Sand, new_df_pH, new_df_CN, new_df_SOC]\n",
    "titles = [\"Bulk Density\", \"Clay\", \"Sand\", \"pH\", \"C:N ratio\", \"SOC\"]\n",
    "\n",
    "# Выбор цветовой карты Matplotlib (например, 'plasma' или 'inferno' похожи на 'Sunset')\n",
    "cmap = cm\n",
    "\n",
    "# Создаем сетку графиков 2x3\n",
    "# figsize регулирует общий размер фигуры\n",
    "fig, axes = plt.subplots(2, 3, figsize=(12, 7), sharex=False, sharey=False) # Не делим оси пока\n",
    "\n",
    "images = [] # Список для хранения объектов imshow для colorbar\n",
    "\n",
    "# Проходим по строкам и столбцам сетки\n",
    "for r in range(2):\n",
    "    for c in range(3):\n",
    "        idx = r * 3 + c # Индекс текущего графика (0-5)\n",
    "        ax = axes[r, c] # Получаем текущий объект осей\n",
    "        df = data_frames[idx] # Получаем соответствующий DataFrame\n",
    "\n",
    "        # Отображаем данные как тепловую карту с помощью imshow\n",
    "        # aspect='auto' позволяет прямоугольникам растягиваться\n",
    "        # interpolation='nearest' показывает четкие пиксели без сглаживания\n",
    "        im = ax.imshow(df, cmap=cm, aspect='auto', interpolation='nearest')\n",
    "        images.append(im) # Сохраняем для colorbar\n",
    "\n",
    "        ax.set_title(titles[idx]) # Устанавливаем заголовок\n",
    "\n",
    "        # Настройка оси Y (глубина) - только для первого столбца\n",
    "        if c == 0:\n",
    "            ax.set_yticks(np.arange(len(df.index))) # Позиции тиков по индексам строк\n",
    "            ax.set_yticklabels(df.index) # Метки тиков из индекса DataFrame\n",
    "            ax.set_ylabel(\"Depth, cm\")\n",
    "        else:\n",
    "            ax.set_yticklabels([]) # Скрываем метки Y для других столбцов\n",
    "\n",
    "        # Настройка оси X (эксперименты) - только для нижнего ряда\n",
    "        if r == 1:\n",
    "            ax.set_xticks(np.arange(len(df.columns))) # Позиции тиков по индексам столбцов\n",
    "            # Устанавливаем метки X и поворачиваем для читаемости\n",
    "            ax.set_xticklabels(df.columns, rotation=45, ha='right')\n",
    "        else:\n",
    "            ax.set_xticklabels([]) # Скрываем метки X для верхнего ряда\n",
    "\n",
    "        # Инвертируем ось Y, чтобы глубина увеличивалась вниз\n",
    "        ax.invert_yaxis()\n",
    "\n",
    "        # Добавляем контуры для последнего графика (SOC)\n",
    "        if idx == 5:\n",
    "            # Создаем сетку координат X, Y по индексам DataFrame для contour\n",
    "            x_coords = np.arange(df.shape[1])\n",
    "            y_coords = np.arange(df.shape[0])\n",
    "            X_idx, Y_idx = np.meshgrid(x_coords, y_coords)\n",
    "            # Рисуем контуры поверх imshow\n",
    "            # df.values используется для передачи NumPy массива в contour\n",
    "            CS = ax.contour(X_idx, Y_idx, df.values, colors='black', linewidths=1)\n",
    "\n",
    "# Добавляем единую цветовую шкалу для всех графиков\n",
    "# Используем первый объект im, так как у всех одинаковая cmap\n",
    "# ax=axes.ravel().tolist() указывает, что colorbar относится ко всем подграфикам\n",
    "cbar = fig.colorbar(images[0], ax=axes.ravel().tolist(), shrink=0.6)\n",
    "cbar.set_label('Значение') # Можно добавить подпись к шкале\n",
    "\n",
    "# Автоматически подгоняем расположение элементов, чтобы избежать наложений\n",
    "plt.tight_layout()\n",
    "\n",
    "# Отображаем график\n",
    "plt.show()\n",
    "\n",
    "# Опционально: сохранение фигуры\n",
    "# fig.savefig('Heatmap_horizonts_matplotlib.png', dpi=300)\n",
    "# fig.savefig('Heatmap_horizonts_matplotlib.svg')"
   ]
  },
  {
   "cell_type": "code",
   "execution_count": null,
   "metadata": {},
   "outputs": [],
   "source": []
  },
  {
   "cell_type": "code",
   "execution_count": null,
   "metadata": {},
   "outputs": [],
   "source": []
  }
 ],
 "metadata": {
  "kernelspec": {
   "display_name": "geo",
   "language": "python",
   "name": "python3"
  },
  "language_info": {
   "codemirror_mode": {
    "name": "ipython",
    "version": 3
   },
   "file_extension": ".py",
   "mimetype": "text/x-python",
   "name": "python",
   "nbconvert_exporter": "python",
   "pygments_lexer": "ipython3",
   "version": "3.12.0"
  }
 },
 "nbformat": 4,
 "nbformat_minor": 2
}
