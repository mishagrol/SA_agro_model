{
 "cells": [
  {
   "cell_type": "code",
   "execution_count": 126,
   "metadata": {},
   "outputs": [],
   "source": [
    "\n",
    "import numpy as np\n",
    "import pandas as pd\n",
    "import json\n",
    "import pickle\n",
    "import csv\n",
    "from pandas.io.json import json_normalize\n",
    "import scipy\n",
    "import SALib\n",
    "from SALib.sample import saltelli"
   ]
  },
  {
   "cell_type": "code",
   "execution_count": 129,
   "metadata": {},
   "outputs": [],
   "source": [
    "problem = {\n",
    "    'num_vars':15,\n",
    "    'names':['P1', 'P2', 'P3', 'P4', 'P5', 'P6', 'P7', 'P8',\\\n",
    "    'P9', 'P10', 'P11', 'P12', 'P13', 'P14', 'P15'],\n",
    "    'bounds':[[2.58, 6.20],\n",
    "              [2.58, 6.20],\n",
    "              [2.58, 6.20],\n",
    "              [2.58, 6.20],\n",
    "              [2.58, 6.20],\n",
    "              [2.58, 6.20],\n",
    "              [2.58, 6.20],\n",
    "              [2.58, 6.20],\n",
    "              [2.58, 6.20],\n",
    "              [2.58, 6.20],\n",
    "              [2.58, 6.20],\n",
    "              [2.58, 6.20],\n",
    "              [2.58, 6.20],\n",
    "              [2.58, 6.20],\n",
    "              [2.58, 6.20]]\n",
    "    }\n",
    "param_values = saltelli.sample(problem, 100)\n",
    "\n",
    "# counter=1000000\n",
    "# for st in range(len(param_values)):\n",
    "#     writting_files(param_values[st], counter)\n",
    "#     counter+=1"
   ]
  },
  {
   "cell_type": "code",
   "execution_count": 141,
   "metadata": {},
   "outputs": [],
   "source": [
    "one, two, three, four = np.split(param_values, 4)"
   ]
  },
  {
   "cell_type": "code",
   "execution_count": 148,
   "metadata": {},
   "outputs": [
    {
     "data": {
      "text/plain": [
       "array([3.37541016, 2.92998047, 4.45716797, 5.02986328, 3.59458984,\n",
       "       5.86416016, 2.74615234, 5.83587891, 4.39353516, 2.83099609,\n",
       "       2.88755859, 3.50267578, 3.16330078, 3.96931641, 3.09966797])"
      ]
     },
     "execution_count": 148,
     "metadata": {},
     "output_type": "execute_result"
    }
   ],
   "source": [
    "param_values[0]"
   ]
  },
  {
   "cell_type": "code",
   "execution_count": 143,
   "metadata": {},
   "outputs": [
    {
     "data": {
      "text/plain": [
       "(800, 15)"
      ]
     },
     "execution_count": 143,
     "metadata": {},
     "output_type": "execute_result"
    }
   ],
   "source": [
    "one.shape"
   ]
  },
  {
   "cell_type": "code",
   "execution_count": 105,
   "metadata": {},
   "outputs": [
    {
     "data": {
      "text/plain": [
       "{'CanopyReflectionCoefficient': 0.08,\n",
       " 'GrowthRespirationParameter1': 0.1,\n",
       " 'GrowthRespirationParameter2': 38,\n",
       " 'GrowthRespirationRedux': 0.7,\n",
       " 'MaintenanceRespirationParameter1': 0.08,\n",
       " 'MaintenanceRespirationParameter2': 44,\n",
       " 'MaxCropNDemand': 6,\n",
       " 'MinimumAvailableN': 7.5e-05,\n",
       " 'MinimumNConcentrationRoot': 0.005,\n",
       " 'ReferenceAlbedo': 0.23,\n",
       " 'ReferenceLeafAreaIndex': 1.44,\n",
       " 'ReferenceMaxAssimilationRate': 30,\n",
       " 'SaturationBeta': 2.5,\n",
       " 'StomataConductanceAlpha': 40,\n",
       " 'Tortuosity': 0.002,\n",
       " 'type': 'UserCropParameters'}"
      ]
     },
     "execution_count": 105,
     "metadata": {},
     "output_type": "execute_result"
    }
   ],
   "source": [
    "crop_data_copy"
   ]
  },
  {
   "cell_type": "code",
   "execution_count": 110,
   "metadata": {},
   "outputs": [],
   "source": [
    "crop_file='/Users/mikhailgasanov/zalf-rpm/monica-parameters/general/main_crop.json'"
   ]
  },
  {
   "cell_type": "code",
   "execution_count": 112,
   "metadata": {},
   "outputs": [],
   "source": [
    "crop_file\n",
    "with open(crop_file) as sf:\n",
    "        crop_data = json.load(sf)"
   ]
  },
  {
   "cell_type": "code",
   "execution_count": 118,
   "metadata": {},
   "outputs": [
    {
     "data": {
      "text/plain": [
       "dict_values([0.08, 0.1, 38, 0.7, 0.08, 44, 6, 7.5e-05, 0.005, 0.23, 1.44, 30, 2.5, 40, 0.002, 'UserCropParameters'])"
      ]
     },
     "execution_count": 118,
     "metadata": {},
     "output_type": "execute_result"
    }
   ],
   "source": [
    "(crop_data.values())"
   ]
  },
  {
   "cell_type": "code",
   "execution_count": 108,
   "metadata": {},
   "outputs": [],
   "source": [
    "def crop_file_writting(st)\n",
    "    class NpEncoder(json.JSONEncoder):\n",
    "            def default(self, obj):\n",
    "                if isinstance(obj, np.integer):\n",
    "                    return int(obj)\n",
    "                elif isinstance(obj, np.floating):\n",
    "                    return float(obj)\n",
    "                elif isinstance(obj, np.ndarray):\n",
    "                    return obj.tolist()\n",
    "                else:\n",
    "                    return super(NpEncoder, self).default(obj)\n",
    "    crop_file='/Users/mikhailgasanov/zalf-rpm/monica-parameters/general/main_crop.json'\n",
    "    with open(crop_file) as sf:\n",
    "        crop_data = json.load(sf)\n",
    "    keys = list(crop_data.keys())\n",
    "    our_keys = list(keys.copy()[i] for i in range(len(keys)-1))\n",
    "\n",
    "    crop_data_copy=crop_data.copy()\n",
    "    # for key,value in crop_data_copy.items():\n",
    "    #         crop_data_copy[key][0]=float(param_values[0][i])\n",
    "    #         crop_data_copy[key][value]=float(12)\n",
    "    #         print(crop_data_copy[key])\n",
    "\n",
    "\n",
    "    crop_data_copy['CanopyReflectionCoefficient']=float(local_param_values[0])\n",
    "    crop_data_copy['GrowthRespirationParameter1']=float(local_param_values[1])\n",
    "    crop_data_copy['GrowthRespirationParameter2']=float(local_param_values[2])\n",
    "    crop_data_copy['GrowthRespirationRedux']=float(local_param_values[3])\n",
    "    crop_data_copy['MaintenanceRespirationParameter1']=float(local_param_values[4])\n",
    "    crop_data_copy['MaintenanceRespirationParameter2']=float(local_param_values[5])\n",
    "    crop_data_copy['MaxCropNDemand']=float(local_param_values[6])\n",
    "    crop_data_copy['MinimumAvailableN']=float(local_param_values[7])\n",
    "    crop_data_copy['MinimumNConcentrationRoot']=float(local_param_values[8])\n",
    "    crop_data_copy['ReferenceAlbedo']=float(local_param_values[9])\n",
    "    crop_data_copy['ReferenceLeafAreaIndex']=float(local_param_values[10])\n",
    "    crop_data_copy['ReferenceMaxAssimilationRate']=float(local_param_values[11])\n",
    "    crop_data_copy['SaturationBeta']=float(local_param_values[12])\n",
    "    crop_data_copy['StomataConductanceAlpha']=float(local_param_values[13])\n",
    "    crop_data_copy['Tortuosity']=float(local_param_values[14])\n",
    "\n",
    "    crop_file_name='crop_new.json'\n",
    "\n",
    "    with open(crop_file_name, 'w', encoding='utf-8') as cropf:\n",
    "        json.dump(crop_data_copy, cropf, ensure_ascii=False, indent=4, cls=NpEncoder)"
   ]
  },
  {
   "cell_type": "code",
   "execution_count": 109,
   "metadata": {},
   "outputs": [
    {
     "name": "stdout",
     "output_type": "stream",
     "text": [
      "\u001b[1m\u001b[36m6_param\u001b[m\u001b[m                                morris_inputsugar-beet-2011.png\r\n",
      "BRENT_yahoo_2016-01-01_2019-01-06.xlsx morris_inputsugar-beet-2014.png\r\n",
      "DataUpload_GM.ipynb                    morris_inputsugar-beet-2017.png\r\n",
      "Morris_plots.ipynb                     morris_result.txt\r\n",
      "\u001b[1m\u001b[36mN_1000\u001b[m\u001b[m                                 morris_resultsoybean-000-2015.png\r\n",
      "\u001b[1m\u001b[36mSALib\u001b[m\u001b[m                                  morris_resultspring-barley-2012.png\r\n",
      "SA_sobol_plots.ipynb                   morris_resultsugar-beet-2011.png\r\n",
      "Salib_basic.ipynb                      morris_resultsugar-beet-2014.png\r\n",
      "Sobol_general_crop.ipynb               morris_resultsugar-beet-2017.png\r\n",
      "Sobol_horizons.ipynb                   \u001b[1m\u001b[36mmorris_yield\u001b[m\u001b[m\r\n",
      "Sobol_result.csv                       \u001b[1m\u001b[36mrhodium\u001b[m\u001b[m\r\n",
      "WTI_yahoo_2016-01-01_2019-01-06.xlsx   \u001b[1m\u001b[36msensitivity\u001b[m\u001b[m\r\n",
      "crop_new.json                          \u001b[1m\u001b[36msobol_4_param\u001b[m\u001b[m\r\n",
      "monica_param.txt                       \u001b[1m\u001b[36mwork_kshen\u001b[m\u001b[m\r\n",
      "morris_inputsoybean-000-2015.png       \u001b[31mwritting_sobol_samples.py\u001b[m\u001b[m\r\n",
      "morris_inputspring-barley-2012.png\r\n"
     ]
    }
   ],
   "source": [
    "!ls"
   ]
  },
  {
   "cell_type": "code",
   "execution_count": 40,
   "metadata": {},
   "outputs": [],
   "source": [
    "def writting_files(str_values, counter):\n",
    "    soc1,soc2,soc3,soc4,soc5,soc6,soc7,soc8,soc9 = str_values \n",
    "    \n",
    "    class NpEncoder(json.JSONEncoder):\n",
    "        def default(self, obj):\n",
    "            if isinstance(obj, np.integer):\n",
    "                return int(obj)\n",
    "            elif isinstance(obj, np.floating):\n",
    "                return float(obj)\n",
    "            elif isinstance(obj, np.ndarray):\n",
    "                return obj.tolist()\n",
    "            else:\n",
    "                return super(NpEncoder, self).default(obj)\n",
    "\n",
    "    site_file = './work_kshen/site-min-kshen.json' #site-min-kshen-3-layers.json'\n",
    "    sim_file = './work_kshen/sim-min-kshen.json'\n",
    "    crop_file='/Users/mikhailgasanov/zalf-rpm/monica-parameters/general/crop.json'\n",
    "    with open(crop_file) as sf:\n",
    "        site_data = json.load(sf)\n",
    "\n",
    "#     with open(sim_file) as simf:\n",
    "#         sim_data = json.load(simf)   \n",
    "\n",
    "    #selecting necessary keys\n",
    "    keys = list(site_data['SiteParameters']['SoilProfileParameters'][0].keys())\n",
    "    our_keys = list(keys.copy()[i] for i in [1])\n",
    "    \n",
    "    soc1=soc1\n",
    "    soc2=soc2\n",
    "    soc3=soc3\n",
    "    soc4=soc4\n",
    "    soc5=soc5\n",
    "    soc6=soc6\n",
    "    soc7=soc7\n",
    "    soc8=soc8\n",
    "    soc9=soc9\n",
    "#     soil_parameters_range = [organic_carbon_range,texture_class_range,pore_volume_range,\n",
    "#                              ph_range,cn_range]\n",
    "\n",
    "#     soil_parameters_names = ['SO10', 'SOC20', 'SOC30', 'SOC40','SOC50', 'SOC60', 'SOC70', 'SOC80', 'SOC90']\n",
    "\n",
    "    #saving site-file and sim-file\n",
    "    #for the first key - SoilOrganicCarbon\n",
    "    # for parameter in range(len(soil_parameters_range)):\n",
    "#     for soc,ka5,pv,ph,cn in itertools.product(soil_parameters_range[0],soil_parameters_range[1],\\\n",
    "#                                               soil_parameters_range[2],soil_parameters_range[3],soil_parameters_range[4]):\n",
    "\n",
    "    site_data_copy=site_data.copy()\n",
    "    #writing main parameters     \n",
    "    site_data_copy[]=float(soc1) \n",
    "    \n",
    "    site_data_copy['SiteParameters']['SoilProfileParameters'][1][our_keys[0]][0]=float(soc2)\n",
    "    site_data_copy['SiteParameters']['SoilProfileParameters'][2][our_keys[0]][0]=float(soc3)\n",
    "    site_data_copy['SiteParameters']['SoilProfileParameters'][3][our_keys[0]][0]=float(soc4)\n",
    "    site_data_copy['SiteParameters']['SoilProfileParameters'][4][our_keys[0]][0]=float(soc5) \n",
    "    site_data_copy['SiteParameters']['SoilProfileParameters'][5][our_keys[0]][0]=float(soc6)\n",
    "    site_data_copy['SiteParameters']['SoilProfileParameters'][6][our_keys[0]][0]=float(soc7)\n",
    "    site_data_copy['SiteParameters']['SoilProfileParameters'][7][our_keys[0]][0]=float(soc8)\n",
    "    site_data_copy['SiteParameters']['SoilProfileParameters'][8][our_keys[0]][0]=float(soc9)\n",
    "    \n",
    "\n",
    "    #writing texture parameters\n",
    "#     for c in range(len(texture_keys)):\n",
    "#         data = soil_texture[np.where(soil_texture==ka5)[0][0],:][1:]\n",
    "#         site_data_copy['SiteParameters']['SoilProfileParameters'][0][texture_keys[c]][0]=data[c]\n",
    "\n",
    "    #constructing file name \n",
    "#     SOC10_value = str(site_data_copy['SiteParameters']['SoilProfileParameters'][0][our_keys[0]][0])\n",
    "#     SOC20_value = str(site_data_copy['SiteParameters']['SoilProfileParameters'][1][our_keys[0]][0])\n",
    "#     SOC30_value = str(site_data_copy['SiteParameters']['SoilProfileParameters'][2][our_keys[0]][0])\n",
    "#     SOC40_value = str(site_data_copy['SiteParameters']['SoilProfileParameters'][3][our_keys[0]][0])\n",
    "#     SOC50_value = str(site_data_copy['SiteParameters']['SoilProfileParameters'][4][our_keys[0]][0])\n",
    "#     SOC60_value = str(site_data_copy['SiteParameters']['SoilProfileParameters'][5][our_keys[0]][0])\n",
    "#     SOC70_value = str(site_data_copy['SiteParameters']['SoilProfileParameters'][6][our_keys[0]][0])\n",
    "#     SOC80_value = str(site_data_copy['SiteParameters']['SoilProfileParameters'][7][our_keys[0]][0])\n",
    "#     SOC90_value = str(site_data_copy['SiteParameters']['SoilProfileParameters'][8][our_keys[0]][0])\n",
    "    \n",
    "\n",
    "\n",
    "    file_name = 'crop.json'\n",
    "    site_file_name='site'+'_'+file_name+'.json'\n",
    "\n",
    "\n",
    "    with open(site_file_name, 'w', encoding='utf-8') as sitef:\n",
    "        json.dump(site_data_copy, sitef, ensure_ascii=False, indent=4, cls=NpEncoder)\n",
    "\n",
    "    sim_data_copy=sim_data.copy()\n",
    "    sim_data_copy['site.json']=site_file_name\n",
    "    sim_data_copy['output']['file-name']=str(counter)+'out'+'_'+file_name+'.csv'\n",
    "    sim_file_name='sim'+'_'+file_name+'.json'\n",
    "\n",
    "    with open(sim_file_name, 'w', encoding='utf-8') as simf:\n",
    "        json.dump(sim_data_copy, simf, ensure_ascii=False, indent=4, cls=NpEncoder)"
   ]
  },
  {
   "cell_type": "code",
   "execution_count": 28,
   "metadata": {},
   "outputs": [],
   "source": [
    "problem = {\n",
    "    'num_vars':9,\n",
    "    'names':['SOC10', 'SOC10', 'SOC30', 'SOC40',\\\n",
    "             'SOC50', 'SOC60', 'SOC70', 'SOC80', 'SOC90'],\n",
    "    'bounds':[[2.58, 6.20],\n",
    "              [2.58, 6.20],\n",
    "              [2.58, 6.20],\n",
    "              [2.58, 6.20],\n",
    "              [2.58, 6.20],\n",
    "              [2.58, 6.20],\n",
    "              [2.58, 6.20],\n",
    "              [2.58, 6.20],\n",
    "              [2.58, 6.20]]\n",
    "}\n",
    "param_values = saltelli.sample(problem, 10)\n",
    "\n",
    "counter=1000000\n",
    "for st in range(len(param_values)):\n",
    "    writting_files(param_values[st], counter)\n",
    "    counter+=1"
   ]
  },
  {
   "cell_type": "code",
   "execution_count": 1,
   "metadata": {},
   "outputs": [
    {
     "name": "stdout",
     "output_type": "stream",
     "text": [
      "/Users/mikhailgasanov/MONICA/monica_sensitivity/sobol\r\n"
     ]
    }
   ],
   "source": [
    "!pwd"
   ]
  }
 ],
 "metadata": {
  "kernelspec": {
   "display_name": "Python 3",
   "language": "python",
   "name": "python3"
  },
  "language_info": {
   "codemirror_mode": {
    "name": "ipython",
    "version": 3
   },
   "file_extension": ".py",
   "mimetype": "text/x-python",
   "name": "python",
   "nbconvert_exporter": "python",
   "pygments_lexer": "ipython3",
   "version": "3.7.4"
  }
 },
 "nbformat": 4,
 "nbformat_minor": 2
}
